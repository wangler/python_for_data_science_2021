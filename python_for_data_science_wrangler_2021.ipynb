{
  "nbformat": 4,
  "nbformat_minor": 0,
  "metadata": {
    "colab": {
      "name": "python_for_data_science_wrangler_2021.ipynb",
      "provenance": [],
      "collapsed_sections": [
        "DDhHQPP9ReSO",
        "ed8fQNwYUout",
        "0RcHBqjpymsl",
        "GJ1-BfHWc3Ob",
        "0hIMrBArFWuT"
      ],
      "toc_visible": true
    },
    "kernelspec": {
      "name": "python3",
      "display_name": "Python 3"
    },
    "language_info": {
      "name": "python"
    }
  },
  "cells": [
    {
      "cell_type": "markdown",
      "metadata": {
        "id": "yCx4tf89-fX_"
      },
      "source": [
        "# Python For Data Science, The Wrangler 2021\n",
        "By Lucy X. Wang\n",
        "\n"
      ]
    },
    {
      "cell_type": "markdown",
      "metadata": {
        "id": "DzRgTCuzee9O"
      },
      "source": [
        "## Other Resources\n",
        "* [Python Data Science Handbook (Colab notebook) ](https://colab.research.google.com/github/jakevdp/PythonDataScienceHandbook/blob/master/notebooks/Index.ipynb) - Exhaustive guide that leans more technical\n",
        "* Cheat Sheets\n",
        "  * [Pandas](http://datacamp-community-prod.s3.amazonaws.com/d4efb29b-f9c6-4f1c-8c98-6f568d88b48f)\n",
        "  * [Matplotlib](http://datacamp-community-prod.s3.amazonaws.com/e1a8f39d-71ad-4d13-9a6b-618fe1b8c9e9)/[Seaborn](http://datacamp-community-prod.s3.amazonaws.com/263130e2-2c92-4348-a356-9ed9b5034247)\n",
        "  * [Scikit-Learn](https://s3.amazonaws.com/assets.datacamp.com/blog_assets/Scikit_Learn_Cheat_Sheet_Python.pdf)\n",
        "* [Kaggle](https://www.kaggle.com/) - for free datasets"
      ]
    },
    {
      "cell_type": "markdown",
      "metadata": {
        "id": "9Zok9HKlK4WL"
      },
      "source": [
        "## Python Notebook Refresher\n",
        "\n",
        "*   Refer to the Table of contents for better notebook navigation (first icon on the left panel) \n",
        "*  Double-click to edit a cell\n",
        "*   Shift + Enter to run a cell \n",
        "*   While you're typing out code, look out for auto-completions and documentation hints\n",
        "\n",
        "\n"
      ]
    },
    {
      "cell_type": "markdown",
      "metadata": {
        "id": "mETl8rfkhba2"
      },
      "source": [
        "## Python Refresher\n",
        "\n",
        "*   int: `1`\n",
        "*   float: `0.5`\n",
        "*   None: `None`\n",
        "*   str: `\"Hello World\"`\n",
        "*   bool: `True` or `False`\n",
        "*   list: \n",
        "    * List items are ordered, changeable, and allow duplicate values.\n",
        "    * ```python \n",
        "    my_list = [\"peaches\", \"apples\", \"grapes\"]\n",
        "    my_list.append(\"oranges\") # add to the list\n",
        "    my_list[1:3] # return items 1 (zero-indexed) to 3 (exclusive of 3)\n",
        "    my_list[1] = \"bananas\" # change the item in position 1 to \"bananas\"\n",
        "    my_list.remove(\"oranges\") # remove from the list\n",
        "      ```\n",
        "*   tuple:\n",
        "    * Tuple items are ordered and unchangeable\n",
        "    * `my_tuple = (\"peaches\", \"apples\", \"grapes\")`\n",
        "*   set:\n",
        "    * Set items are unordered, unchangeable (each item can't be changed, but you can add/remove whole items), and unindexed\n",
        "    * `my_set = {\"peaches\", \"apples\", \"apples\", \"grapes\"}`\n",
        "    * This will automatically de-dupe to `{\"peaches\", \"apples\", \"grapes\"}`\n",
        "*   dict: \n",
        "    * Store data in key:value pairs. It is ordered (Python 3.7+), changeable, and does not allow duplicates.\n",
        "    * ```python\n",
        "    my_dict = {\"peaches\": 1, \"apples\": 27, \"grapes\": 60}\n",
        "    my_dict[\"oranges\"] = 50 # set a new key value pair\n",
        "    my_dict[\"apples\"] # get value for \"apples\" key, returning 27\n",
        "    my_dict[\"bananas\"] # this will error our since bananas key does not exist\n",
        "    my_dict.get(\"bananas\", 0) # this will return a default value of 0 if bananas key does not exist\n",
        "    ```\n",
        "*   Comparisons\n",
        "  * ```python\n",
        "    1 < 5 # returns True\n",
        "    \"apple\" == \"apples\" # returns False\n",
        "    \"apple\" != \"apples\" # returns True\n",
        "    ```\n",
        "\n",
        "| Operation     | Meaning |\n",
        "| ----------- | ----------- |\n",
        "| <      | strictly less than       |\n",
        "| <=  | less than or equal        |\n",
        "| >  | less than or equal        |\n",
        "| >= | greater than or equal  |\n",
        "| ==  | equal        |\n",
        "| !=  | not equal      |\n",
        "| is  | object identity    |\n",
        "| is not | negated object identity      |\n",
        "\n",
        "\n",
        "\n"
      ]
    },
    {
      "cell_type": "markdown",
      "metadata": {
        "id": "SVwjGPlF-6hP"
      },
      "source": [
        "## Generating Insights with Pandas"
      ]
    },
    {
      "cell_type": "markdown",
      "metadata": {
        "id": "P4hipYqGAMKX"
      },
      "source": [
        "### Intro to pandas\n",
        "This part is adapted from https://colab.research.google.com/notebooks/mlcc/intro_to_pandas.ipynb"
      ]
    },
    {
      "cell_type": "markdown",
      "metadata": {
        "id": "CwABq8frAV7r"
      },
      "source": [
        "[*pandas*](http://pandas.pydata.org/) is a column-oriented data analysis API. It's a great tool for handling and analyzing input data, and many ML frameworks support *pandas* data structures as inputs.\n",
        "Although a comprehensive introduction to the *pandas* API would span many pages, the core concepts are fairly straightforward, and we'll present them below. For a more complete reference, the [*pandas* docs site](http://pandas.pydata.org/pandas-docs/stable/index.html) contains extensive documentation and many tutorials."
      ]
    },
    {
      "cell_type": "markdown",
      "metadata": {
        "id": "c1FC-oYtAaLo"
      },
      "source": [
        "#### Basic Concepts\n",
        "\n",
        "The following line imports the *pandas* API and prints the API version:"
      ]
    },
    {
      "cell_type": "code",
      "metadata": {
        "colab": {
          "base_uri": "https://localhost:8080/",
          "height": 35
        },
        "id": "YxiV9fMWAMaJ",
        "outputId": "f776811f-e1d5-4b37-a7da-c57a70e34d71"
      },
      "source": [
        "from __future__ import print_function\n",
        "\n",
        "import pandas as pd\n",
        "pd.__version__"
      ],
      "execution_count": 1,
      "outputs": [
        {
          "output_type": "execute_result",
          "data": {
            "application/vnd.google.colaboratory.intrinsic+json": {
              "type": "string"
            },
            "text/plain": [
              "'1.1.5'"
            ]
          },
          "metadata": {},
          "execution_count": 1
        }
      ]
    },
    {
      "cell_type": "markdown",
      "metadata": {
        "id": "xsIkyDqCAiTc"
      },
      "source": [
        "The primary data structures in *pandas* are implemented as two classes:\n",
        "\n",
        "  * **`DataFrame`**, which you can imagine as a relational data table, with rows and named columns.\n",
        "  * **`Series`**, which is a single column. A `DataFrame` contains one or more `Series` and a name for each `Series`.\n",
        "\n",
        "The data frame is a commonly used abstraction for data manipulation. Similar implementations exist in [Spark](https://spark.apache.org/) and [R](https://www.r-project.org/about.html)."
      ]
    },
    {
      "cell_type": "markdown",
      "metadata": {
        "id": "gv5p-jE_Alam"
      },
      "source": [
        "One way to create a Series is to construct a Series object. For example:"
      ]
    },
    {
      "cell_type": "code",
      "metadata": {
        "colab": {
          "base_uri": "https://localhost:8080/"
        },
        "id": "Sxw9NwUXAgLX",
        "outputId": "1079a371-984a-4dae-f3cd-7931f7082083"
      },
      "source": [
        "pd.Series(['peaches', 'apples', 'grapes'])"
      ],
      "execution_count": 2,
      "outputs": [
        {
          "output_type": "execute_result",
          "data": {
            "text/plain": [
              "0    peaches\n",
              "1     apples\n",
              "2     grapes\n",
              "dtype: object"
            ]
          },
          "metadata": {},
          "execution_count": 2
        }
      ]
    },
    {
      "cell_type": "markdown",
      "metadata": {
        "id": "-SW94CTEAnwK"
      },
      "source": [
        "`DataFrame` objects can be created by passing a `dict` mapping `string` column names to their respective `Series`. If the `Series` don't match in length, missing values are filled with special [NA/NaN](http://pandas.pydata.org/pandas-docs/stable/missing_data.html) values. Example:"
      ]
    },
    {
      "cell_type": "code",
      "metadata": {
        "colab": {
          "base_uri": "https://localhost:8080/",
          "height": 143
        },
        "id": "DGw8THxjAmyM",
        "outputId": "a082fca5-11a7-40e3-da49-bf2eff6dc355"
      },
      "source": [
        "fruit_name = pd.Series(['peaches', 'apples', 'grapes'])\n",
        "quantity = pd.Series([1, 27, 60])\n",
        "\n",
        "pd.DataFrame({ 'Fruit Name': fruit_name, 'Quantity':quantity })"
      ],
      "execution_count": 3,
      "outputs": [
        {
          "output_type": "execute_result",
          "data": {
            "text/html": [
              "<div>\n",
              "<style scoped>\n",
              "    .dataframe tbody tr th:only-of-type {\n",
              "        vertical-align: middle;\n",
              "    }\n",
              "\n",
              "    .dataframe tbody tr th {\n",
              "        vertical-align: top;\n",
              "    }\n",
              "\n",
              "    .dataframe thead th {\n",
              "        text-align: right;\n",
              "    }\n",
              "</style>\n",
              "<table border=\"1\" class=\"dataframe\">\n",
              "  <thead>\n",
              "    <tr style=\"text-align: right;\">\n",
              "      <th></th>\n",
              "      <th>Fruit Name</th>\n",
              "      <th>Quantity</th>\n",
              "    </tr>\n",
              "  </thead>\n",
              "  <tbody>\n",
              "    <tr>\n",
              "      <th>0</th>\n",
              "      <td>peaches</td>\n",
              "      <td>1</td>\n",
              "    </tr>\n",
              "    <tr>\n",
              "      <th>1</th>\n",
              "      <td>apples</td>\n",
              "      <td>27</td>\n",
              "    </tr>\n",
              "    <tr>\n",
              "      <th>2</th>\n",
              "      <td>grapes</td>\n",
              "      <td>60</td>\n",
              "    </tr>\n",
              "  </tbody>\n",
              "</table>\n",
              "</div>"
            ],
            "text/plain": [
              "  Fruit Name  Quantity\n",
              "0    peaches         1\n",
              "1     apples        27\n",
              "2     grapes        60"
            ]
          },
          "metadata": {},
          "execution_count": 3
        }
      ]
    },
    {
      "cell_type": "markdown",
      "metadata": {
        "id": "V0VWMTqBIKkP"
      },
      "source": [
        "### Loading a dataset"
      ]
    },
    {
      "cell_type": "markdown",
      "metadata": {
        "id": "nZ9RnP5WAuMN"
      },
      "source": [
        "But most of the time, you load an entire file into a `DataFrame`. The following example loads a file with data about billionaires. Run the following cell to load the data:"
      ]
    },
    {
      "cell_type": "code",
      "metadata": {
        "colab": {
          "base_uri": "https://localhost:8080/",
          "height": 344
        },
        "id": "fOI7xicLAyDA",
        "outputId": "e221bf62-1e75-4a11-80cf-25a52611388f"
      },
      "source": [
        "df = pd.read_csv(\"https://raw.githubusercontent.com/wangler/python_for_data_science_2021/main/forbes_billionaires_geo.csv\", sep=\",\")\n",
        "df.head()"
      ],
      "execution_count": 4,
      "outputs": [
        {
          "output_type": "execute_result",
          "data": {
            "text/html": [
              "<div>\n",
              "<style scoped>\n",
              "    .dataframe tbody tr th:only-of-type {\n",
              "        vertical-align: middle;\n",
              "    }\n",
              "\n",
              "    .dataframe tbody tr th {\n",
              "        vertical-align: top;\n",
              "    }\n",
              "\n",
              "    .dataframe thead th {\n",
              "        text-align: right;\n",
              "    }\n",
              "</style>\n",
              "<table border=\"1\" class=\"dataframe\">\n",
              "  <thead>\n",
              "    <tr style=\"text-align: right;\">\n",
              "      <th></th>\n",
              "      <th>Name</th>\n",
              "      <th>NetWorth</th>\n",
              "      <th>Country</th>\n",
              "      <th>Source</th>\n",
              "      <th>Rank</th>\n",
              "      <th>Age</th>\n",
              "      <th>Residence</th>\n",
              "      <th>Citizenship</th>\n",
              "      <th>Status</th>\n",
              "      <th>Children</th>\n",
              "      <th>Education</th>\n",
              "      <th>Self_made</th>\n",
              "      <th>geometry</th>\n",
              "    </tr>\n",
              "  </thead>\n",
              "  <tbody>\n",
              "    <tr>\n",
              "      <th>0</th>\n",
              "      <td>Jeff Bezos</td>\n",
              "      <td>177.0</td>\n",
              "      <td>United States</td>\n",
              "      <td>Amazon</td>\n",
              "      <td>1</td>\n",
              "      <td>57.0</td>\n",
              "      <td>Seattle, Washington</td>\n",
              "      <td>United States</td>\n",
              "      <td>In Relationship</td>\n",
              "      <td>4.0</td>\n",
              "      <td>Bachelor of Arts/Science, Princeton University</td>\n",
              "      <td>True</td>\n",
              "      <td>POINT (-122.3300624 47.6038321)</td>\n",
              "    </tr>\n",
              "    <tr>\n",
              "      <th>1</th>\n",
              "      <td>Elon Musk</td>\n",
              "      <td>151.0</td>\n",
              "      <td>United States</td>\n",
              "      <td>Tesla, SpaceX</td>\n",
              "      <td>2</td>\n",
              "      <td>49.0</td>\n",
              "      <td>Austin, Texas</td>\n",
              "      <td>United States</td>\n",
              "      <td>In Relationship</td>\n",
              "      <td>7.0</td>\n",
              "      <td>Bachelor of Arts/Science, University of Pennsy...</td>\n",
              "      <td>True</td>\n",
              "      <td>POINT (-97.74369950000001 30.2711286)</td>\n",
              "    </tr>\n",
              "    <tr>\n",
              "      <th>2</th>\n",
              "      <td>Bernard Arnault &amp; family</td>\n",
              "      <td>150.0</td>\n",
              "      <td>France</td>\n",
              "      <td>LVMH</td>\n",
              "      <td>3</td>\n",
              "      <td>72.0</td>\n",
              "      <td>Paris, France</td>\n",
              "      <td>France</td>\n",
              "      <td>Married</td>\n",
              "      <td>5.0</td>\n",
              "      <td>Bachelor of Arts/Science, Ecole Polytechnique ...</td>\n",
              "      <td>False</td>\n",
              "      <td>POINT (2.3514616 48.8566969)</td>\n",
              "    </tr>\n",
              "    <tr>\n",
              "      <th>3</th>\n",
              "      <td>Bill Gates</td>\n",
              "      <td>124.0</td>\n",
              "      <td>United States</td>\n",
              "      <td>Microsoft</td>\n",
              "      <td>4</td>\n",
              "      <td>65.0</td>\n",
              "      <td>Medina, Washington</td>\n",
              "      <td>United States</td>\n",
              "      <td>Divorced</td>\n",
              "      <td>3.0</td>\n",
              "      <td>Drop Out, Harvard University</td>\n",
              "      <td>True</td>\n",
              "      <td>POINT (-122.2264453 47.620548)</td>\n",
              "    </tr>\n",
              "    <tr>\n",
              "      <th>4</th>\n",
              "      <td>Mark Zuckerberg</td>\n",
              "      <td>97.0</td>\n",
              "      <td>United States</td>\n",
              "      <td>Facebook</td>\n",
              "      <td>5</td>\n",
              "      <td>36.0</td>\n",
              "      <td>Palo Alto, California</td>\n",
              "      <td>United States</td>\n",
              "      <td>Married</td>\n",
              "      <td>2.0</td>\n",
              "      <td>Drop Out, Harvard University</td>\n",
              "      <td>True</td>\n",
              "      <td>POINT (-122.1598465 37.4443293)</td>\n",
              "    </tr>\n",
              "  </tbody>\n",
              "</table>\n",
              "</div>"
            ],
            "text/plain": [
              "                       Name  ...                               geometry\n",
              "0                Jeff Bezos  ...        POINT (-122.3300624 47.6038321)\n",
              "1                 Elon Musk  ...  POINT (-97.74369950000001 30.2711286)\n",
              "2  Bernard Arnault & family  ...           POINT (2.3514616 48.8566969)\n",
              "3                Bill Gates  ...         POINT (-122.2264453 47.620548)\n",
              "4           Mark Zuckerberg  ...        POINT (-122.1598465 37.4443293)\n",
              "\n",
              "[5 rows x 13 columns]"
            ]
          },
          "metadata": {},
          "execution_count": 4
        }
      ]
    },
    {
      "cell_type": "markdown",
      "metadata": {
        "id": "p6qCP16eIv6e"
      },
      "source": [
        "### Getting basic stats"
      ]
    },
    {
      "cell_type": "markdown",
      "metadata": {
        "id": "iB30ndWZHIH_"
      },
      "source": [
        "You can get quick summary statistics by running `.describe()` on your data frame"
      ]
    },
    {
      "cell_type": "code",
      "metadata": {
        "colab": {
          "base_uri": "https://localhost:8080/",
          "height": 299
        },
        "id": "zH_WGNgOHAW6",
        "outputId": "b1014b88-d7da-4fb4-f55a-34558c798172"
      },
      "source": [
        "df.describe()"
      ],
      "execution_count": 5,
      "outputs": [
        {
          "output_type": "execute_result",
          "data": {
            "text/html": [
              "<div>\n",
              "<style scoped>\n",
              "    .dataframe tbody tr th:only-of-type {\n",
              "        vertical-align: middle;\n",
              "    }\n",
              "\n",
              "    .dataframe tbody tr th {\n",
              "        vertical-align: top;\n",
              "    }\n",
              "\n",
              "    .dataframe thead th {\n",
              "        text-align: right;\n",
              "    }\n",
              "</style>\n",
              "<table border=\"1\" class=\"dataframe\">\n",
              "  <thead>\n",
              "    <tr style=\"text-align: right;\">\n",
              "      <th></th>\n",
              "      <th>NetWorth</th>\n",
              "      <th>Rank</th>\n",
              "      <th>Age</th>\n",
              "      <th>Children</th>\n",
              "    </tr>\n",
              "  </thead>\n",
              "  <tbody>\n",
              "    <tr>\n",
              "      <th>count</th>\n",
              "      <td>2755.000000</td>\n",
              "      <td>2755.000000</td>\n",
              "      <td>2630.00000</td>\n",
              "      <td>1552.000000</td>\n",
              "    </tr>\n",
              "    <tr>\n",
              "      <th>mean</th>\n",
              "      <td>4.749220</td>\n",
              "      <td>1345.663521</td>\n",
              "      <td>63.26730</td>\n",
              "      <td>2.978093</td>\n",
              "    </tr>\n",
              "    <tr>\n",
              "      <th>std</th>\n",
              "      <td>9.615358</td>\n",
              "      <td>772.669811</td>\n",
              "      <td>13.47916</td>\n",
              "      <td>1.618569</td>\n",
              "    </tr>\n",
              "    <tr>\n",
              "      <th>min</th>\n",
              "      <td>1.000000</td>\n",
              "      <td>1.000000</td>\n",
              "      <td>18.00000</td>\n",
              "      <td>1.000000</td>\n",
              "    </tr>\n",
              "    <tr>\n",
              "      <th>25%</th>\n",
              "      <td>1.500000</td>\n",
              "      <td>680.000000</td>\n",
              "      <td>54.00000</td>\n",
              "      <td>2.000000</td>\n",
              "    </tr>\n",
              "    <tr>\n",
              "      <th>50%</th>\n",
              "      <td>2.300000</td>\n",
              "      <td>1362.000000</td>\n",
              "      <td>63.00000</td>\n",
              "      <td>3.000000</td>\n",
              "    </tr>\n",
              "    <tr>\n",
              "      <th>75%</th>\n",
              "      <td>4.200000</td>\n",
              "      <td>2035.000000</td>\n",
              "      <td>73.00000</td>\n",
              "      <td>4.000000</td>\n",
              "    </tr>\n",
              "    <tr>\n",
              "      <th>max</th>\n",
              "      <td>177.000000</td>\n",
              "      <td>2674.000000</td>\n",
              "      <td>99.00000</td>\n",
              "      <td>23.000000</td>\n",
              "    </tr>\n",
              "  </tbody>\n",
              "</table>\n",
              "</div>"
            ],
            "text/plain": [
              "          NetWorth         Rank         Age     Children\n",
              "count  2755.000000  2755.000000  2630.00000  1552.000000\n",
              "mean      4.749220  1345.663521    63.26730     2.978093\n",
              "std       9.615358   772.669811    13.47916     1.618569\n",
              "min       1.000000     1.000000    18.00000     1.000000\n",
              "25%       1.500000   680.000000    54.00000     2.000000\n",
              "50%       2.300000  1362.000000    63.00000     3.000000\n",
              "75%       4.200000  2035.000000    73.00000     4.000000\n",
              "max     177.000000  2674.000000    99.00000    23.000000"
            ]
          },
          "metadata": {},
          "execution_count": 5
        }
      ]
    },
    {
      "cell_type": "markdown",
      "metadata": {
        "id": "6ae9ilgIKhQq"
      },
      "source": [
        "Pandas dataframes and series all have a fundamental set of metric functions that you can call directly on the dataframe or series object. Some common metrics are\n",
        "\n",
        "```\n",
        ".sum()\n",
        ".count()\n",
        ".mean()\n",
        ".median()\n",
        ".mode()\n",
        ".std()\n",
        "```"
      ]
    },
    {
      "cell_type": "code",
      "metadata": {
        "colab": {
          "base_uri": "https://localhost:8080/"
        },
        "id": "d5tyvusTKgmv",
        "outputId": "2e6be7aa-1410-4cc1-cc13-5ce8d6471c4d"
      },
      "source": [
        "df.mean() # Get the mean of every column (auto-detects which columns are numeric)"
      ],
      "execution_count": 6,
      "outputs": [
        {
          "output_type": "execute_result",
          "data": {
            "text/plain": [
              "NetWorth        4.749220\n",
              "Rank         1345.663521\n",
              "Age            63.267300\n",
              "Children        2.978093\n",
              "Self_made       0.716113\n",
              "dtype: float64"
            ]
          },
          "metadata": {},
          "execution_count": 6
        }
      ]
    },
    {
      "cell_type": "markdown",
      "metadata": {
        "id": "nRgrRRASI1xZ"
      },
      "source": [
        "Let's compute some other stats that aren't covered here"
      ]
    },
    {
      "cell_type": "code",
      "metadata": {
        "colab": {
          "base_uri": "https://localhost:8080/"
        },
        "id": "eDMJsP_uJFqo",
        "outputId": "8bdb6843-fa66-428b-f30a-1b89f80d2088"
      },
      "source": [
        "df.shape # Get shape of the dataset (rows, cols)"
      ],
      "execution_count": 7,
      "outputs": [
        {
          "output_type": "execute_result",
          "data": {
            "text/plain": [
              "(2755, 13)"
            ]
          },
          "metadata": {},
          "execution_count": 7
        }
      ]
    },
    {
      "cell_type": "code",
      "metadata": {
        "colab": {
          "base_uri": "https://localhost:8080/"
        },
        "id": "dCAHOEiXKdOV",
        "outputId": "da8cd053-c605-49f1-a3af-553c9fea15f3"
      },
      "source": [
        "df.mean()"
      ],
      "execution_count": 8,
      "outputs": [
        {
          "output_type": "execute_result",
          "data": {
            "text/plain": [
              "NetWorth        4.749220\n",
              "Rank         1345.663521\n",
              "Age            63.267300\n",
              "Children        2.978093\n",
              "Self_made       0.716113\n",
              "dtype: float64"
            ]
          },
          "metadata": {},
          "execution_count": 8
        }
      ]
    },
    {
      "cell_type": "markdown",
      "metadata": {
        "id": "fEwyDG4iJevl"
      },
      "source": [
        "To do something with a specific column, index the column using brackets, like a dictionary. This returns just that column in the form of a `pd.Series` which is an n x 1 dimensional array.  "
      ]
    },
    {
      "cell_type": "code",
      "metadata": {
        "colab": {
          "base_uri": "https://localhost:8080/"
        },
        "id": "vuHXwmc1SGHh",
        "outputId": "fd7a5893-d972-45f8-efe7-b81557f29104"
      },
      "source": [
        "df[\"Status\"].unique() # get all unique values for Status"
      ],
      "execution_count": 9,
      "outputs": [
        {
          "output_type": "execute_result",
          "data": {
            "text/plain": [
              "array(['In Relationship', 'Married', 'Divorced', 'Widowed, Remarried',\n",
              "       nan, 'Widowed', 'Single', 'Separated', 'Engaged'], dtype=object)"
            ]
          },
          "metadata": {},
          "execution_count": 9
        }
      ]
    },
    {
      "cell_type": "code",
      "metadata": {
        "colab": {
          "base_uri": "https://localhost:8080/"
        },
        "id": "zCMwRhU2I6C1",
        "outputId": "0b81ff1d-b100-47d8-a498-e745aa5645d2"
      },
      "source": [
        "df[\"Source\"].nunique() # get the number of unique values for Source (of wealth)"
      ],
      "execution_count": 10,
      "outputs": [
        {
          "output_type": "execute_result",
          "data": {
            "text/plain": [
              "924"
            ]
          },
          "metadata": {},
          "execution_count": 10
        }
      ]
    },
    {
      "cell_type": "markdown",
      "metadata": {
        "id": "Piv-UjWIP8K2"
      },
      "source": [
        "To do something with multiple select columns, you index via a list of column names (so you have 2 pairs of square brackets)"
      ]
    },
    {
      "cell_type": "code",
      "metadata": {
        "colab": {
          "base_uri": "https://localhost:8080/"
        },
        "id": "KknDLreAJzbK",
        "outputId": "ed89a5bf-5b68-425d-a868-c7f891e25901"
      },
      "source": [
        "df[[\"Age\", \"NetWorth\"]].mean() # get the mean age and net worth"
      ],
      "execution_count": 11,
      "outputs": [
        {
          "output_type": "execute_result",
          "data": {
            "text/plain": [
              "Age         63.26730\n",
              "NetWorth     4.74922\n",
              "dtype: float64"
            ]
          },
          "metadata": {},
          "execution_count": 11
        }
      ]
    },
    {
      "cell_type": "markdown",
      "metadata": {
        "id": "7ETrYfaVQXct"
      },
      "source": [
        "#### Exercise\n",
        "What is the number of unique countries in this dataset?"
      ]
    },
    {
      "cell_type": "code",
      "metadata": {
        "id": "qdlqC4faQyO-"
      },
      "source": [
        "# Your code here"
      ],
      "execution_count": 12,
      "outputs": []
    },
    {
      "cell_type": "markdown",
      "metadata": {
        "id": "DDhHQPP9ReSO"
      },
      "source": [
        "##### Solution"
      ]
    },
    {
      "cell_type": "code",
      "metadata": {
        "colab": {
          "base_uri": "https://localhost:8080/"
        },
        "id": "SubgTue8Qm9z",
        "outputId": "56faee3d-2fcd-437c-a69e-615cbb0e0ea5"
      },
      "source": [
        "df[\"Country\"].nunique()"
      ],
      "execution_count": 13,
      "outputs": [
        {
          "output_type": "execute_result",
          "data": {
            "text/plain": [
              "70"
            ]
          },
          "metadata": {},
          "execution_count": 13
        }
      ]
    },
    {
      "cell_type": "markdown",
      "metadata": {
        "id": "cqhLYKJYROfj"
      },
      "source": [
        "### Slicing and Dicing"
      ]
    },
    {
      "cell_type": "markdown",
      "metadata": {
        "id": "PYA-WXiMVpZu"
      },
      "source": [
        "#### Slicing by row or column indices\n",
        "You might want to slice the data by row index. When inspecting the dataframe, Python notebook cells automatically hide most of the rows in the middle. So let's peep at some of the middle rows."
      ]
    },
    {
      "cell_type": "code",
      "metadata": {
        "colab": {
          "base_uri": "https://localhost:8080/",
          "height": 361
        },
        "id": "xYyUmKMfV8nr",
        "outputId": "98cf79eb-982b-4cf8-9f32-a1d2ebf31457"
      },
      "source": [
        "df.iloc[500:505] # index by row number"
      ],
      "execution_count": 14,
      "outputs": [
        {
          "output_type": "execute_result",
          "data": {
            "text/html": [
              "<div>\n",
              "<style scoped>\n",
              "    .dataframe tbody tr th:only-of-type {\n",
              "        vertical-align: middle;\n",
              "    }\n",
              "\n",
              "    .dataframe tbody tr th {\n",
              "        vertical-align: top;\n",
              "    }\n",
              "\n",
              "    .dataframe thead th {\n",
              "        text-align: right;\n",
              "    }\n",
              "</style>\n",
              "<table border=\"1\" class=\"dataframe\">\n",
              "  <thead>\n",
              "    <tr style=\"text-align: right;\">\n",
              "      <th></th>\n",
              "      <th>Name</th>\n",
              "      <th>NetWorth</th>\n",
              "      <th>Country</th>\n",
              "      <th>Source</th>\n",
              "      <th>Rank</th>\n",
              "      <th>Age</th>\n",
              "      <th>Residence</th>\n",
              "      <th>Citizenship</th>\n",
              "      <th>Status</th>\n",
              "      <th>Children</th>\n",
              "      <th>Education</th>\n",
              "      <th>Self_made</th>\n",
              "      <th>geometry</th>\n",
              "    </tr>\n",
              "  </thead>\n",
              "  <tbody>\n",
              "    <tr>\n",
              "      <th>500</th>\n",
              "      <td>Kwee brothers</td>\n",
              "      <td>5.6</td>\n",
              "      <td>Singapore</td>\n",
              "      <td>Real Estate</td>\n",
              "      <td>496</td>\n",
              "      <td>NaN</td>\n",
              "      <td>Singapore, Singapore</td>\n",
              "      <td>Singapore</td>\n",
              "      <td>NaN</td>\n",
              "      <td>NaN</td>\n",
              "      <td>NaN</td>\n",
              "      <td>False</td>\n",
              "      <td>POINT (103.8194992 1.357107)</td>\n",
              "    </tr>\n",
              "    <tr>\n",
              "      <th>501</th>\n",
              "      <td>Clive Calder</td>\n",
              "      <td>5.5</td>\n",
              "      <td>United Kingdom</td>\n",
              "      <td>record label</td>\n",
              "      <td>502</td>\n",
              "      <td>74.0</td>\n",
              "      <td>Grand Cayman, Cayman Islands</td>\n",
              "      <td>United Kingdom</td>\n",
              "      <td>Married</td>\n",
              "      <td>2.0</td>\n",
              "      <td>NaN</td>\n",
              "      <td>True</td>\n",
              "      <td>POINT (-81.17122910000001 19.3298691)</td>\n",
              "    </tr>\n",
              "    <tr>\n",
              "      <th>502</th>\n",
              "      <td>Hasmukh Chudgar &amp; family</td>\n",
              "      <td>5.5</td>\n",
              "      <td>India</td>\n",
              "      <td>pharmaceuticals</td>\n",
              "      <td>502</td>\n",
              "      <td>87.0</td>\n",
              "      <td>Ahmedabad, India</td>\n",
              "      <td>India</td>\n",
              "      <td>Married</td>\n",
              "      <td>3.0</td>\n",
              "      <td>NaN</td>\n",
              "      <td>True</td>\n",
              "      <td>POINT (72.5797068 23.0216238)</td>\n",
              "    </tr>\n",
              "    <tr>\n",
              "      <th>503</th>\n",
              "      <td>Dagmar Dolby &amp; family</td>\n",
              "      <td>5.5</td>\n",
              "      <td>United States</td>\n",
              "      <td>Dolby Laboratories</td>\n",
              "      <td>502</td>\n",
              "      <td>79.0</td>\n",
              "      <td>San Francisco, California</td>\n",
              "      <td>United States</td>\n",
              "      <td>Widowed</td>\n",
              "      <td>2.0</td>\n",
              "      <td>Bachelor of Arts/Science, Heidelberg University</td>\n",
              "      <td>False</td>\n",
              "      <td>POINT (-122.419906 37.7790262)</td>\n",
              "    </tr>\n",
              "    <tr>\n",
              "      <th>504</th>\n",
              "      <td>Dong Wei</td>\n",
              "      <td>5.5</td>\n",
              "      <td>China</td>\n",
              "      <td>pharmaceuticals</td>\n",
              "      <td>502</td>\n",
              "      <td>50.0</td>\n",
              "      <td>Lianyungang, China</td>\n",
              "      <td>China</td>\n",
              "      <td>NaN</td>\n",
              "      <td>NaN</td>\n",
              "      <td>NaN</td>\n",
              "      <td>True</td>\n",
              "      <td>POINT (119.215813 34.5978596)</td>\n",
              "    </tr>\n",
              "  </tbody>\n",
              "</table>\n",
              "</div>"
            ],
            "text/plain": [
              "                         Name  ...                               geometry\n",
              "500             Kwee brothers  ...           POINT (103.8194992 1.357107)\n",
              "501              Clive Calder  ...  POINT (-81.17122910000001 19.3298691)\n",
              "502  Hasmukh Chudgar & family  ...          POINT (72.5797068 23.0216238)\n",
              "503     Dagmar Dolby & family  ...         POINT (-122.419906 37.7790262)\n",
              "504                  Dong Wei  ...          POINT (119.215813 34.5978596)\n",
              "\n",
              "[5 rows x 13 columns]"
            ]
          },
          "metadata": {},
          "execution_count": 14
        }
      ]
    },
    {
      "cell_type": "code",
      "metadata": {
        "colab": {
          "base_uri": "https://localhost:8080/",
          "height": 205
        },
        "id": "fcyZNRlRWPBl",
        "outputId": "7acdc053-77b0-4cc7-a3d4-3d6b07be9c43"
      },
      "source": [
        "df.iloc[500:505, :3] # index by row and column number"
      ],
      "execution_count": 15,
      "outputs": [
        {
          "output_type": "execute_result",
          "data": {
            "text/html": [
              "<div>\n",
              "<style scoped>\n",
              "    .dataframe tbody tr th:only-of-type {\n",
              "        vertical-align: middle;\n",
              "    }\n",
              "\n",
              "    .dataframe tbody tr th {\n",
              "        vertical-align: top;\n",
              "    }\n",
              "\n",
              "    .dataframe thead th {\n",
              "        text-align: right;\n",
              "    }\n",
              "</style>\n",
              "<table border=\"1\" class=\"dataframe\">\n",
              "  <thead>\n",
              "    <tr style=\"text-align: right;\">\n",
              "      <th></th>\n",
              "      <th>Name</th>\n",
              "      <th>NetWorth</th>\n",
              "      <th>Country</th>\n",
              "    </tr>\n",
              "  </thead>\n",
              "  <tbody>\n",
              "    <tr>\n",
              "      <th>500</th>\n",
              "      <td>Kwee brothers</td>\n",
              "      <td>5.6</td>\n",
              "      <td>Singapore</td>\n",
              "    </tr>\n",
              "    <tr>\n",
              "      <th>501</th>\n",
              "      <td>Clive Calder</td>\n",
              "      <td>5.5</td>\n",
              "      <td>United Kingdom</td>\n",
              "    </tr>\n",
              "    <tr>\n",
              "      <th>502</th>\n",
              "      <td>Hasmukh Chudgar &amp; family</td>\n",
              "      <td>5.5</td>\n",
              "      <td>India</td>\n",
              "    </tr>\n",
              "    <tr>\n",
              "      <th>503</th>\n",
              "      <td>Dagmar Dolby &amp; family</td>\n",
              "      <td>5.5</td>\n",
              "      <td>United States</td>\n",
              "    </tr>\n",
              "    <tr>\n",
              "      <th>504</th>\n",
              "      <td>Dong Wei</td>\n",
              "      <td>5.5</td>\n",
              "      <td>China</td>\n",
              "    </tr>\n",
              "  </tbody>\n",
              "</table>\n",
              "</div>"
            ],
            "text/plain": [
              "                         Name  NetWorth         Country\n",
              "500             Kwee brothers       5.6       Singapore\n",
              "501              Clive Calder       5.5  United Kingdom\n",
              "502  Hasmukh Chudgar & family       5.5           India\n",
              "503     Dagmar Dolby & family       5.5   United States\n",
              "504                  Dong Wei       5.5           China"
            ]
          },
          "metadata": {},
          "execution_count": 15
        }
      ]
    },
    {
      "cell_type": "markdown",
      "metadata": {
        "id": "uQVGbyehGw5r"
      },
      "source": [
        "#### Slicing by boolean conditions\n",
        "Now you may want to filter the data by specific criteria. Let's filter to only billionaires who are divorced, and return only their names. Again, you use square brackets for indexing. But this time, instead of indexing with a number, or column key name, you're using boolean conditions.\n"
      ]
    },
    {
      "cell_type": "markdown",
      "metadata": {
        "id": "N3KWTbJ3Z1tM"
      },
      "source": [
        "This is what the boolean condition looks like by itself. It creates a new series of boolean values"
      ]
    },
    {
      "cell_type": "code",
      "metadata": {
        "colab": {
          "base_uri": "https://localhost:8080/"
        },
        "id": "r7iiWqT1Zzg6",
        "outputId": "a5024ff8-2a1a-4053-c589-f6b84be510bf"
      },
      "source": [
        "df[\"Status\"] == \"Divorced\""
      ],
      "execution_count": 16,
      "outputs": [
        {
          "output_type": "execute_result",
          "data": {
            "text/plain": [
              "0       False\n",
              "1       False\n",
              "2       False\n",
              "3        True\n",
              "4       False\n",
              "        ...  \n",
              "2750    False\n",
              "2751    False\n",
              "2752    False\n",
              "2753    False\n",
              "2754    False\n",
              "Name: Status, Length: 2755, dtype: bool"
            ]
          },
          "metadata": {},
          "execution_count": 16
        }
      ]
    },
    {
      "cell_type": "markdown",
      "metadata": {
        "id": "NTJdTCY0aHMw"
      },
      "source": [
        "When you pass this boolean series as indices for the original dataframe, all values that evaluate to False will be removed from the result. So in this case, we're filtering out people who don't meet the condition of \"Status\" == \"Divorced\".\n",
        "\n",
        "We'd also like to return only the Name column. So we index that at the end."
      ]
    },
    {
      "cell_type": "code",
      "metadata": {
        "colab": {
          "base_uri": "https://localhost:8080/"
        },
        "id": "TpMhpqKbGwVr",
        "outputId": "5db38f5f-4288-401c-d342-a8f3213877b8"
      },
      "source": [
        "df[df[\"Status\"] == \"Divorced\"][\"Name\"]"
      ],
      "execution_count": 17,
      "outputs": [
        {
          "output_type": "execute_result",
          "data": {
            "text/plain": [
              "3                   Bill Gates\n",
              "16                Alice Walton\n",
              "32      David Thomson & family\n",
              "46                Lee Shau Kee\n",
              "47             Jacqueline Mars\n",
              "                 ...          \n",
              "2600          Martha MacMillan\n",
              "2657        George Yancopoulos\n",
              "2670                Zhou Yahui\n",
              "2689       Clelia Haji-Ioannou\n",
              "2720            Maria Pinheiro\n",
              "Name: Name, Length: 144, dtype: object"
            ]
          },
          "metadata": {},
          "execution_count": 17
        }
      ]
    },
    {
      "cell_type": "markdown",
      "metadata": {
        "id": "3n19_zgeLsoW"
      },
      "source": [
        "Filter for billionaires who are divorced AND whose citizenship is USA, and return their names. When you start having multiple filtering conditions, you need to separate them with parentheses."
      ]
    },
    {
      "cell_type": "code",
      "metadata": {
        "colab": {
          "base_uri": "https://localhost:8080/"
        },
        "id": "_Jl0ZHZ4LoPq",
        "outputId": "4b7147fb-082f-47be-88c5-d0885d3bdfbb"
      },
      "source": [
        "df[(df[\"Status\"] == \"Divorced\") & (df[\"Citizenship\"] == \"United States\")][\"Name\"]"
      ],
      "execution_count": 18,
      "outputs": [
        {
          "output_type": "execute_result",
          "data": {
            "text/plain": [
              "3               Bill Gates\n",
              "16            Alice Walton\n",
              "47         Jacqueline Mars\n",
              "64         Thomas Peterffy\n",
              "119            Ken Griffin\n",
              "               ...        \n",
              "2491          Laurie Tisch\n",
              "2540             Ron Corio\n",
              "2543           Henry Davis\n",
              "2600      Martha MacMillan\n",
              "2657    George Yancopoulos\n",
              "Name: Name, Length: 62, dtype: object"
            ]
          },
          "metadata": {},
          "execution_count": 18
        }
      ]
    },
    {
      "cell_type": "markdown",
      "metadata": {
        "id": "ovFi6MmANOh1"
      },
      "source": [
        "You can also filter by other match conditions, aside from just equality\n",
        "\n",
        "Here we return the names and ages of all billionaires who are younger than 40 and reside in California."
      ]
    },
    {
      "cell_type": "code",
      "metadata": {
        "colab": {
          "base_uri": "https://localhost:8080/",
          "height": 831
        },
        "id": "iKEM7wwXNNZF",
        "outputId": "8c09fb7d-49a4-4d3b-9a55-ed16165ef29f"
      },
      "source": [
        "df[(df[\"Age\"] < 40) & (df[\"Residence\"].str.contains(\"California\"))][[\"Name\", \"Age\"]]"
      ],
      "execution_count": 19,
      "outputs": [
        {
          "output_type": "execute_result",
          "data": {
            "text/html": [
              "<div>\n",
              "<style scoped>\n",
              "    .dataframe tbody tr th:only-of-type {\n",
              "        vertical-align: middle;\n",
              "    }\n",
              "\n",
              "    .dataframe tbody tr th {\n",
              "        vertical-align: top;\n",
              "    }\n",
              "\n",
              "    .dataframe thead th {\n",
              "        text-align: right;\n",
              "    }\n",
              "</style>\n",
              "<table border=\"1\" class=\"dataframe\">\n",
              "  <thead>\n",
              "    <tr style=\"text-align: right;\">\n",
              "      <th></th>\n",
              "      <th>Name</th>\n",
              "      <th>Age</th>\n",
              "    </tr>\n",
              "  </thead>\n",
              "  <tbody>\n",
              "    <tr>\n",
              "      <th>4</th>\n",
              "      <td>Mark Zuckerberg</td>\n",
              "      <td>36.0</td>\n",
              "    </tr>\n",
              "    <tr>\n",
              "      <th>106</th>\n",
              "      <td>Dustin Moskovitz</td>\n",
              "      <td>36.0</td>\n",
              "    </tr>\n",
              "    <tr>\n",
              "      <th>153</th>\n",
              "      <td>Brian Chesky</td>\n",
              "      <td>39.0</td>\n",
              "    </tr>\n",
              "    <tr>\n",
              "      <th>176</th>\n",
              "      <td>Nathan Blecharczyk</td>\n",
              "      <td>37.0</td>\n",
              "    </tr>\n",
              "    <tr>\n",
              "      <th>178</th>\n",
              "      <td>Joe Gebbia</td>\n",
              "      <td>39.0</td>\n",
              "    </tr>\n",
              "    <tr>\n",
              "      <th>184</th>\n",
              "      <td>Bobby Murphy</td>\n",
              "      <td>32.0</td>\n",
              "    </tr>\n",
              "    <tr>\n",
              "      <th>198</th>\n",
              "      <td>Evan Spiegel</td>\n",
              "      <td>30.0</td>\n",
              "    </tr>\n",
              "    <tr>\n",
              "      <th>403</th>\n",
              "      <td>Brian Armstrong</td>\n",
              "      <td>38.0</td>\n",
              "    </tr>\n",
              "    <tr>\n",
              "      <th>768</th>\n",
              "      <td>Ben Silbermann</td>\n",
              "      <td>38.0</td>\n",
              "    </tr>\n",
              "    <tr>\n",
              "      <th>850</th>\n",
              "      <td>Lynsi Snyder</td>\n",
              "      <td>39.0</td>\n",
              "    </tr>\n",
              "    <tr>\n",
              "      <th>874</th>\n",
              "      <td>Apoorva Mehta</td>\n",
              "      <td>34.0</td>\n",
              "    </tr>\n",
              "    <tr>\n",
              "      <th>914</th>\n",
              "      <td>RJ Scaringe</td>\n",
              "      <td>38.0</td>\n",
              "    </tr>\n",
              "    <tr>\n",
              "      <th>959</th>\n",
              "      <td>John Collison</td>\n",
              "      <td>30.0</td>\n",
              "    </tr>\n",
              "    <tr>\n",
              "      <th>960</th>\n",
              "      <td>Patrick Collison</td>\n",
              "      <td>32.0</td>\n",
              "    </tr>\n",
              "    <tr>\n",
              "      <th>1170</th>\n",
              "      <td>Tony Xu</td>\n",
              "      <td>36.0</td>\n",
              "    </tr>\n",
              "    <tr>\n",
              "      <th>1338</th>\n",
              "      <td>Austin Russell</td>\n",
              "      <td>26.0</td>\n",
              "    </tr>\n",
              "    <tr>\n",
              "      <th>1416</th>\n",
              "      <td>Andrew Paradise</td>\n",
              "      <td>39.0</td>\n",
              "    </tr>\n",
              "    <tr>\n",
              "      <th>1596</th>\n",
              "      <td>Andy Fang</td>\n",
              "      <td>28.0</td>\n",
              "    </tr>\n",
              "    <tr>\n",
              "      <th>1645</th>\n",
              "      <td>Stanley Tang</td>\n",
              "      <td>28.0</td>\n",
              "    </tr>\n",
              "    <tr>\n",
              "      <th>1729</th>\n",
              "      <td>Kevin Systrom</td>\n",
              "      <td>37.0</td>\n",
              "    </tr>\n",
              "    <tr>\n",
              "      <th>1779</th>\n",
              "      <td>Drew Houston</td>\n",
              "      <td>38.0</td>\n",
              "    </tr>\n",
              "    <tr>\n",
              "      <th>1911</th>\n",
              "      <td>Peter Szulczewski</td>\n",
              "      <td>39.0</td>\n",
              "    </tr>\n",
              "    <tr>\n",
              "      <th>2531</th>\n",
              "      <td>Sanjit Biswas</td>\n",
              "      <td>39.0</td>\n",
              "    </tr>\n",
              "    <tr>\n",
              "      <th>2675</th>\n",
              "      <td>Baiju Bhatt</td>\n",
              "      <td>36.0</td>\n",
              "    </tr>\n",
              "    <tr>\n",
              "      <th>2732</th>\n",
              "      <td>Vlad Tenev</td>\n",
              "      <td>34.0</td>\n",
              "    </tr>\n",
              "  </tbody>\n",
              "</table>\n",
              "</div>"
            ],
            "text/plain": [
              "                    Name   Age\n",
              "4        Mark Zuckerberg  36.0\n",
              "106     Dustin Moskovitz  36.0\n",
              "153         Brian Chesky  39.0\n",
              "176   Nathan Blecharczyk  37.0\n",
              "178           Joe Gebbia  39.0\n",
              "184         Bobby Murphy  32.0\n",
              "198         Evan Spiegel  30.0\n",
              "403      Brian Armstrong  38.0\n",
              "768       Ben Silbermann  38.0\n",
              "850         Lynsi Snyder  39.0\n",
              "874        Apoorva Mehta  34.0\n",
              "914          RJ Scaringe  38.0\n",
              "959        John Collison  30.0\n",
              "960     Patrick Collison  32.0\n",
              "1170             Tony Xu  36.0\n",
              "1338      Austin Russell  26.0\n",
              "1416     Andrew Paradise  39.0\n",
              "1596           Andy Fang  28.0\n",
              "1645        Stanley Tang  28.0\n",
              "1729       Kevin Systrom  37.0\n",
              "1779        Drew Houston  38.0\n",
              "1911   Peter Szulczewski  39.0\n",
              "2531       Sanjit Biswas  39.0\n",
              "2675         Baiju Bhatt  36.0\n",
              "2732          Vlad Tenev  34.0"
            ]
          },
          "metadata": {},
          "execution_count": 19
        }
      ]
    },
    {
      "cell_type": "markdown",
      "metadata": {
        "id": "DYjy6iVhOpo9"
      },
      "source": [
        "What is the median net worth of billionaires who are under 40 and live in California?"
      ]
    },
    {
      "cell_type": "code",
      "metadata": {
        "colab": {
          "base_uri": "https://localhost:8080/"
        },
        "id": "iFNFWcbEOpD1",
        "outputId": "a33ba6cf-007d-4d1e-9525-0724f12c2662"
      },
      "source": [
        "df[(df[\"Age\"] < 40) & (df[\"Residence\"].str.contains(\"California\"))][\"NetWorth\"].median() # Partial string match for California"
      ],
      "execution_count": 20,
      "outputs": [
        {
          "output_type": "execute_result",
          "data": {
            "text/plain": [
              "3.2"
            ]
          },
          "metadata": {},
          "execution_count": 20
        }
      ]
    },
    {
      "cell_type": "markdown",
      "metadata": {
        "id": "2hyS4nzMM13_"
      },
      "source": [
        "#### Exercise\n",
        "What is the average age of billionaires named John?"
      ]
    },
    {
      "cell_type": "code",
      "metadata": {
        "id": "tRZBHdXQV793"
      },
      "source": [
        "# Your code here"
      ],
      "execution_count": 21,
      "outputs": []
    },
    {
      "cell_type": "markdown",
      "metadata": {
        "id": "ed8fQNwYUout"
      },
      "source": [
        "##### Solution"
      ]
    },
    {
      "cell_type": "code",
      "metadata": {
        "colab": {
          "base_uri": "https://localhost:8080/"
        },
        "id": "qg_J4UeaAwF_",
        "outputId": "a5881e58-5565-4ffb-d8fe-f567f57855c8"
      },
      "source": [
        "df[df[\"Name\"].str.contains(\"John\")][\"Age\"].mean()"
      ],
      "execution_count": 22,
      "outputs": [
        {
          "output_type": "execute_result",
          "data": {
            "text/plain": [
              "68.07142857142857"
            ]
          },
          "metadata": {},
          "execution_count": 22
        }
      ]
    },
    {
      "cell_type": "markdown",
      "metadata": {
        "id": "CW5UW6o-RGtp"
      },
      "source": [
        "### Data Transformations"
      ]
    },
    {
      "cell_type": "markdown",
      "metadata": {
        "id": "Nf8NMGoZD-zE"
      },
      "source": [
        "To get a better sense of the _scale_ of their net worth, let's calculate that in dollar amounts."
      ]
    },
    {
      "cell_type": "code",
      "metadata": {
        "colab": {
          "base_uri": "https://localhost:8080/"
        },
        "id": "bdViMH6xEgD2",
        "outputId": "e24a3f8d-202a-4fe3-bfcc-be6d52930d39"
      },
      "source": [
        "df[\"NetWorth\"] * 10**9 # Represents 10^9, or 1 billion"
      ],
      "execution_count": 23,
      "outputs": [
        {
          "output_type": "execute_result",
          "data": {
            "text/plain": [
              "0       1.770000e+11\n",
              "1       1.510000e+11\n",
              "2       1.500000e+11\n",
              "3       1.240000e+11\n",
              "4       9.700000e+10\n",
              "            ...     \n",
              "2750    1.000000e+09\n",
              "2751    1.000000e+09\n",
              "2752    1.000000e+09\n",
              "2753    1.000000e+09\n",
              "2754    1.000000e+09\n",
              "Name: NetWorth, Length: 2755, dtype: float64"
            ]
          },
          "metadata": {},
          "execution_count": 23
        }
      ]
    },
    {
      "cell_type": "markdown",
      "metadata": {
        "id": "6DmFVDEmGa72"
      },
      "source": [
        "This doesn't actually save the transformed values anywhere. If we want to save that as a new column, we have to assign it explicitly:"
      ]
    },
    {
      "cell_type": "code",
      "metadata": {
        "colab": {
          "base_uri": "https://localhost:8080/",
          "height": 447
        },
        "id": "jnA7phrEGiTY",
        "outputId": "fd994762-f830-4bcf-e3cf-a0859485219c"
      },
      "source": [
        "df[\"NetWorthDollars\"] = df[\"NetWorth\"] * 10**9\n",
        "df.head()"
      ],
      "execution_count": 24,
      "outputs": [
        {
          "output_type": "execute_result",
          "data": {
            "text/html": [
              "<div>\n",
              "<style scoped>\n",
              "    .dataframe tbody tr th:only-of-type {\n",
              "        vertical-align: middle;\n",
              "    }\n",
              "\n",
              "    .dataframe tbody tr th {\n",
              "        vertical-align: top;\n",
              "    }\n",
              "\n",
              "    .dataframe thead th {\n",
              "        text-align: right;\n",
              "    }\n",
              "</style>\n",
              "<table border=\"1\" class=\"dataframe\">\n",
              "  <thead>\n",
              "    <tr style=\"text-align: right;\">\n",
              "      <th></th>\n",
              "      <th>Name</th>\n",
              "      <th>NetWorth</th>\n",
              "      <th>Country</th>\n",
              "      <th>Source</th>\n",
              "      <th>Rank</th>\n",
              "      <th>Age</th>\n",
              "      <th>Residence</th>\n",
              "      <th>Citizenship</th>\n",
              "      <th>Status</th>\n",
              "      <th>Children</th>\n",
              "      <th>Education</th>\n",
              "      <th>Self_made</th>\n",
              "      <th>geometry</th>\n",
              "      <th>NetWorthDollars</th>\n",
              "    </tr>\n",
              "  </thead>\n",
              "  <tbody>\n",
              "    <tr>\n",
              "      <th>0</th>\n",
              "      <td>Jeff Bezos</td>\n",
              "      <td>177.0</td>\n",
              "      <td>United States</td>\n",
              "      <td>Amazon</td>\n",
              "      <td>1</td>\n",
              "      <td>57.0</td>\n",
              "      <td>Seattle, Washington</td>\n",
              "      <td>United States</td>\n",
              "      <td>In Relationship</td>\n",
              "      <td>4.0</td>\n",
              "      <td>Bachelor of Arts/Science, Princeton University</td>\n",
              "      <td>True</td>\n",
              "      <td>POINT (-122.3300624 47.6038321)</td>\n",
              "      <td>1.770000e+11</td>\n",
              "    </tr>\n",
              "    <tr>\n",
              "      <th>1</th>\n",
              "      <td>Elon Musk</td>\n",
              "      <td>151.0</td>\n",
              "      <td>United States</td>\n",
              "      <td>Tesla, SpaceX</td>\n",
              "      <td>2</td>\n",
              "      <td>49.0</td>\n",
              "      <td>Austin, Texas</td>\n",
              "      <td>United States</td>\n",
              "      <td>In Relationship</td>\n",
              "      <td>7.0</td>\n",
              "      <td>Bachelor of Arts/Science, University of Pennsy...</td>\n",
              "      <td>True</td>\n",
              "      <td>POINT (-97.74369950000001 30.2711286)</td>\n",
              "      <td>1.510000e+11</td>\n",
              "    </tr>\n",
              "    <tr>\n",
              "      <th>2</th>\n",
              "      <td>Bernard Arnault &amp; family</td>\n",
              "      <td>150.0</td>\n",
              "      <td>France</td>\n",
              "      <td>LVMH</td>\n",
              "      <td>3</td>\n",
              "      <td>72.0</td>\n",
              "      <td>Paris, France</td>\n",
              "      <td>France</td>\n",
              "      <td>Married</td>\n",
              "      <td>5.0</td>\n",
              "      <td>Bachelor of Arts/Science, Ecole Polytechnique ...</td>\n",
              "      <td>False</td>\n",
              "      <td>POINT (2.3514616 48.8566969)</td>\n",
              "      <td>1.500000e+11</td>\n",
              "    </tr>\n",
              "    <tr>\n",
              "      <th>3</th>\n",
              "      <td>Bill Gates</td>\n",
              "      <td>124.0</td>\n",
              "      <td>United States</td>\n",
              "      <td>Microsoft</td>\n",
              "      <td>4</td>\n",
              "      <td>65.0</td>\n",
              "      <td>Medina, Washington</td>\n",
              "      <td>United States</td>\n",
              "      <td>Divorced</td>\n",
              "      <td>3.0</td>\n",
              "      <td>Drop Out, Harvard University</td>\n",
              "      <td>True</td>\n",
              "      <td>POINT (-122.2264453 47.620548)</td>\n",
              "      <td>1.240000e+11</td>\n",
              "    </tr>\n",
              "    <tr>\n",
              "      <th>4</th>\n",
              "      <td>Mark Zuckerberg</td>\n",
              "      <td>97.0</td>\n",
              "      <td>United States</td>\n",
              "      <td>Facebook</td>\n",
              "      <td>5</td>\n",
              "      <td>36.0</td>\n",
              "      <td>Palo Alto, California</td>\n",
              "      <td>United States</td>\n",
              "      <td>Married</td>\n",
              "      <td>2.0</td>\n",
              "      <td>Drop Out, Harvard University</td>\n",
              "      <td>True</td>\n",
              "      <td>POINT (-122.1598465 37.4443293)</td>\n",
              "      <td>9.700000e+10</td>\n",
              "    </tr>\n",
              "  </tbody>\n",
              "</table>\n",
              "</div>"
            ],
            "text/plain": [
              "                       Name  ...  NetWorthDollars\n",
              "0                Jeff Bezos  ...     1.770000e+11\n",
              "1                 Elon Musk  ...     1.510000e+11\n",
              "2  Bernard Arnault & family  ...     1.500000e+11\n",
              "3                Bill Gates  ...     1.240000e+11\n",
              "4           Mark Zuckerberg  ...     9.700000e+10\n",
              "\n",
              "[5 rows x 14 columns]"
            ]
          },
          "metadata": {},
          "execution_count": 24
        }
      ]
    },
    {
      "cell_type": "markdown",
      "metadata": {
        "id": "OPIgUWqUMJXQ"
      },
      "source": [
        "Let's drop that new column, as we no longer need it. As with most Pandas operations, any transformations you apply need to be saved to the data frame if you want to preserve them. "
      ]
    },
    {
      "cell_type": "code",
      "metadata": {
        "id": "nAYwiqClMQ5d"
      },
      "source": [
        "df = df.drop(columns=[\"NetWorthDollars\"])"
      ],
      "execution_count": 25,
      "outputs": []
    },
    {
      "cell_type": "markdown",
      "metadata": {
        "id": "usdLXOQHwNP6"
      },
      "source": [
        "We can create new columns derived from other columns. This generates a boolean column that designates whether the person's relationship status matches any of the given values."
      ]
    },
    {
      "cell_type": "code",
      "metadata": {
        "id": "zlXP9iblRmqL"
      },
      "source": [
        "df[\"on_the_market\"] = df[\"Status\"].isin([\"Single\", \"Divorced\"])"
      ],
      "execution_count": 26,
      "outputs": []
    },
    {
      "cell_type": "markdown",
      "metadata": {
        "id": "qRhVFa-SR8lf"
      },
      "source": [
        "Let's derive a boolean column for whether the person is a school dropout. This will require a bit of string parsing."
      ]
    },
    {
      "cell_type": "code",
      "metadata": {
        "id": "pFOVwZvEwhQe"
      },
      "source": [
        "# Use Pandas' string functions, accessible through `.str`\n",
        "# First, make the whole Education field lower case so that our search is case-insensitive.\n",
        "# Then search for the words \"drop out\"\n",
        "# For more sophisticated string matching and extracting, use regex\n",
        "df[\"is_drop_out\"] = df[\"Education\"].str.lower().str.contains(\"drop out\")"
      ],
      "execution_count": 27,
      "outputs": []
    },
    {
      "cell_type": "code",
      "metadata": {
        "colab": {
          "base_uri": "https://localhost:8080/",
          "height": 467
        },
        "id": "2fFwyxsIxOmg",
        "outputId": "62eda511-97ef-4cec-c3b3-5b01f841402a"
      },
      "source": [
        "df.head(5)"
      ],
      "execution_count": 28,
      "outputs": [
        {
          "output_type": "execute_result",
          "data": {
            "text/html": [
              "<div>\n",
              "<style scoped>\n",
              "    .dataframe tbody tr th:only-of-type {\n",
              "        vertical-align: middle;\n",
              "    }\n",
              "\n",
              "    .dataframe tbody tr th {\n",
              "        vertical-align: top;\n",
              "    }\n",
              "\n",
              "    .dataframe thead th {\n",
              "        text-align: right;\n",
              "    }\n",
              "</style>\n",
              "<table border=\"1\" class=\"dataframe\">\n",
              "  <thead>\n",
              "    <tr style=\"text-align: right;\">\n",
              "      <th></th>\n",
              "      <th>Name</th>\n",
              "      <th>NetWorth</th>\n",
              "      <th>Country</th>\n",
              "      <th>Source</th>\n",
              "      <th>Rank</th>\n",
              "      <th>Age</th>\n",
              "      <th>Residence</th>\n",
              "      <th>Citizenship</th>\n",
              "      <th>Status</th>\n",
              "      <th>Children</th>\n",
              "      <th>Education</th>\n",
              "      <th>Self_made</th>\n",
              "      <th>geometry</th>\n",
              "      <th>on_the_market</th>\n",
              "      <th>is_drop_out</th>\n",
              "    </tr>\n",
              "  </thead>\n",
              "  <tbody>\n",
              "    <tr>\n",
              "      <th>0</th>\n",
              "      <td>Jeff Bezos</td>\n",
              "      <td>177.0</td>\n",
              "      <td>United States</td>\n",
              "      <td>Amazon</td>\n",
              "      <td>1</td>\n",
              "      <td>57.0</td>\n",
              "      <td>Seattle, Washington</td>\n",
              "      <td>United States</td>\n",
              "      <td>In Relationship</td>\n",
              "      <td>4.0</td>\n",
              "      <td>Bachelor of Arts/Science, Princeton University</td>\n",
              "      <td>True</td>\n",
              "      <td>POINT (-122.3300624 47.6038321)</td>\n",
              "      <td>False</td>\n",
              "      <td>False</td>\n",
              "    </tr>\n",
              "    <tr>\n",
              "      <th>1</th>\n",
              "      <td>Elon Musk</td>\n",
              "      <td>151.0</td>\n",
              "      <td>United States</td>\n",
              "      <td>Tesla, SpaceX</td>\n",
              "      <td>2</td>\n",
              "      <td>49.0</td>\n",
              "      <td>Austin, Texas</td>\n",
              "      <td>United States</td>\n",
              "      <td>In Relationship</td>\n",
              "      <td>7.0</td>\n",
              "      <td>Bachelor of Arts/Science, University of Pennsy...</td>\n",
              "      <td>True</td>\n",
              "      <td>POINT (-97.74369950000001 30.2711286)</td>\n",
              "      <td>False</td>\n",
              "      <td>False</td>\n",
              "    </tr>\n",
              "    <tr>\n",
              "      <th>2</th>\n",
              "      <td>Bernard Arnault &amp; family</td>\n",
              "      <td>150.0</td>\n",
              "      <td>France</td>\n",
              "      <td>LVMH</td>\n",
              "      <td>3</td>\n",
              "      <td>72.0</td>\n",
              "      <td>Paris, France</td>\n",
              "      <td>France</td>\n",
              "      <td>Married</td>\n",
              "      <td>5.0</td>\n",
              "      <td>Bachelor of Arts/Science, Ecole Polytechnique ...</td>\n",
              "      <td>False</td>\n",
              "      <td>POINT (2.3514616 48.8566969)</td>\n",
              "      <td>False</td>\n",
              "      <td>False</td>\n",
              "    </tr>\n",
              "    <tr>\n",
              "      <th>3</th>\n",
              "      <td>Bill Gates</td>\n",
              "      <td>124.0</td>\n",
              "      <td>United States</td>\n",
              "      <td>Microsoft</td>\n",
              "      <td>4</td>\n",
              "      <td>65.0</td>\n",
              "      <td>Medina, Washington</td>\n",
              "      <td>United States</td>\n",
              "      <td>Divorced</td>\n",
              "      <td>3.0</td>\n",
              "      <td>Drop Out, Harvard University</td>\n",
              "      <td>True</td>\n",
              "      <td>POINT (-122.2264453 47.620548)</td>\n",
              "      <td>True</td>\n",
              "      <td>True</td>\n",
              "    </tr>\n",
              "    <tr>\n",
              "      <th>4</th>\n",
              "      <td>Mark Zuckerberg</td>\n",
              "      <td>97.0</td>\n",
              "      <td>United States</td>\n",
              "      <td>Facebook</td>\n",
              "      <td>5</td>\n",
              "      <td>36.0</td>\n",
              "      <td>Palo Alto, California</td>\n",
              "      <td>United States</td>\n",
              "      <td>Married</td>\n",
              "      <td>2.0</td>\n",
              "      <td>Drop Out, Harvard University</td>\n",
              "      <td>True</td>\n",
              "      <td>POINT (-122.1598465 37.4443293)</td>\n",
              "      <td>False</td>\n",
              "      <td>True</td>\n",
              "    </tr>\n",
              "  </tbody>\n",
              "</table>\n",
              "</div>"
            ],
            "text/plain": [
              "                       Name  NetWorth  ... on_the_market is_drop_out\n",
              "0                Jeff Bezos     177.0  ...         False       False\n",
              "1                 Elon Musk     151.0  ...         False       False\n",
              "2  Bernard Arnault & family     150.0  ...         False       False\n",
              "3                Bill Gates     124.0  ...          True        True\n",
              "4           Mark Zuckerberg      97.0  ...         False        True\n",
              "\n",
              "[5 rows x 15 columns]"
            ]
          },
          "metadata": {},
          "execution_count": 28
        }
      ]
    },
    {
      "cell_type": "markdown",
      "metadata": {
        "id": "0VKi8XmFxnbK"
      },
      "source": [
        "#### Exercise\n"
      ]
    },
    {
      "cell_type": "markdown",
      "metadata": {
        "id": "qlAuaXWXc5u7"
      },
      "source": [
        "Create a new column called \"has_bachelor\" that indicates of the person has a Bachelor's degree."
      ]
    },
    {
      "cell_type": "code",
      "metadata": {
        "id": "ODzA_5Q0xUuz"
      },
      "source": [
        "# Your code here"
      ],
      "execution_count": 29,
      "outputs": []
    },
    {
      "cell_type": "markdown",
      "metadata": {
        "id": "0RcHBqjpymsl"
      },
      "source": [
        "##### Solution"
      ]
    },
    {
      "cell_type": "code",
      "metadata": {
        "colab": {
          "base_uri": "https://localhost:8080/"
        },
        "id": "yqdsu3qQypxR",
        "outputId": "b72b7a65-16a4-4df6-b2d8-b2519bfdae97"
      },
      "source": [
        "df[\"has_bachelor\"] = df[\"Education\"].str.lower().str.contains(\"bachelor\")\n",
        "df[\"has_bachelor\"]"
      ],
      "execution_count": 62,
      "outputs": [
        {
          "output_type": "execute_result",
          "data": {
            "text/plain": [
              "0        True\n",
              "1        True\n",
              "2        True\n",
              "3       False\n",
              "4       False\n",
              "        ...  \n",
              "2750      NaN\n",
              "2751      NaN\n",
              "2752      NaN\n",
              "2753      NaN\n",
              "2754      NaN\n",
              "Name: has_bachelor, Length: 2755, dtype: object"
            ]
          },
          "metadata": {},
          "execution_count": 62
        }
      ]
    },
    {
      "cell_type": "markdown",
      "metadata": {
        "id": "8kJInUX8VThi"
      },
      "source": [
        "### Aggregation and Grouping"
      ]
    },
    {
      "cell_type": "markdown",
      "metadata": {
        "id": "TLrFXymKWWZ6"
      },
      "source": [
        "We have already used basic aggregation functions on the whole dataset."
      ]
    },
    {
      "cell_type": "code",
      "metadata": {
        "colab": {
          "base_uri": "https://localhost:8080/"
        },
        "id": "Mx7CZi8HWZ0k",
        "outputId": "04850134-6cdf-4b2e-fb78-9e613567268c"
      },
      "source": [
        "df[\"NetWorth\"].max() # get the maximum Net Worth value in the whole dataset"
      ],
      "execution_count": 30,
      "outputs": [
        {
          "output_type": "execute_result",
          "data": {
            "text/plain": [
              "177.0"
            ]
          },
          "metadata": {},
          "execution_count": 30
        }
      ]
    },
    {
      "cell_type": "markdown",
      "metadata": {
        "id": "80m6ZNiPp2m_"
      },
      "source": [
        "We can pull more insights from the data by grouping on specific values.\n",
        "\n",
        "Using `.value_counts()` is an easy way to group and aggregate."
      ]
    },
    {
      "cell_type": "code",
      "metadata": {
        "colab": {
          "base_uri": "https://localhost:8080/"
        },
        "id": "EMldzKqCprkJ",
        "outputId": "50550587-ea11-44ca-fcfd-3ba075e6db22"
      },
      "source": [
        "df[\"Education\"].value_counts() # group by Education and count all instances"
      ],
      "execution_count": 31,
      "outputs": [
        {
          "output_type": "execute_result",
          "data": {
            "text/plain": [
              "Diploma, High School                                                                               23\n",
              "Bachelor of Arts/Science, Stanford University                                                      13\n",
              "Bachelor of Arts/Science, Harvard University                                                       11\n",
              "Bachelor of Arts/Science, University of Southern California                                         9\n",
              "Bachelor of Arts/Science, Yale University                                                           8\n",
              "                                                                                                   ..\n",
              "Bachelor of Arts/Economics, London School of Economics & Political Science                          1\n",
              "Bachelor of Arts/Science, Babson College; Master of Business Administration, Harvard University     1\n",
              "Liaoning University                                                                                 1\n",
              "Bachelor of Arts/Science, Bandung Institute of Technology                                           1\n",
              "Bachelor of Arts/Science, Colorado College                                                          1\n",
              "Name: Education, Length: 1120, dtype: int64"
            ]
          },
          "metadata": {},
          "execution_count": 31
        }
      ]
    },
    {
      "cell_type": "markdown",
      "metadata": {
        "id": "R8km3Q4gFyzA"
      },
      "source": [
        "Using `.groupby()` let's us do more custom aggregations.\n",
        "\n",
        "For example, let's count the number of billionaires for _each country_. Let's also sort by highest NetWorth on top.\n"
      ]
    },
    {
      "cell_type": "code",
      "metadata": {
        "colab": {
          "base_uri": "https://localhost:8080/",
          "height": 393
        },
        "id": "zQB7Jm04b7Yx",
        "outputId": "691a5985-c16b-45b4-801b-f6b6ad668766"
      },
      "source": [
        "df.groupby([\"Country\"])[[\"Name\"]].count().sort_values(\"Name\", ascending=False).head(10) # sorting defaults to ascending order unless this argument is given"
      ],
      "execution_count": 32,
      "outputs": [
        {
          "output_type": "execute_result",
          "data": {
            "text/html": [
              "<div>\n",
              "<style scoped>\n",
              "    .dataframe tbody tr th:only-of-type {\n",
              "        vertical-align: middle;\n",
              "    }\n",
              "\n",
              "    .dataframe tbody tr th {\n",
              "        vertical-align: top;\n",
              "    }\n",
              "\n",
              "    .dataframe thead th {\n",
              "        text-align: right;\n",
              "    }\n",
              "</style>\n",
              "<table border=\"1\" class=\"dataframe\">\n",
              "  <thead>\n",
              "    <tr style=\"text-align: right;\">\n",
              "      <th></th>\n",
              "      <th>Name</th>\n",
              "    </tr>\n",
              "    <tr>\n",
              "      <th>Country</th>\n",
              "      <th></th>\n",
              "    </tr>\n",
              "  </thead>\n",
              "  <tbody>\n",
              "    <tr>\n",
              "      <th>United States</th>\n",
              "      <td>724</td>\n",
              "    </tr>\n",
              "    <tr>\n",
              "      <th>China</th>\n",
              "      <td>626</td>\n",
              "    </tr>\n",
              "    <tr>\n",
              "      <th>India</th>\n",
              "      <td>140</td>\n",
              "    </tr>\n",
              "    <tr>\n",
              "      <th>Germany</th>\n",
              "      <td>136</td>\n",
              "    </tr>\n",
              "    <tr>\n",
              "      <th>Russia</th>\n",
              "      <td>118</td>\n",
              "    </tr>\n",
              "    <tr>\n",
              "      <th>Hong Kong</th>\n",
              "      <td>71</td>\n",
              "    </tr>\n",
              "    <tr>\n",
              "      <th>Brazil</th>\n",
              "      <td>65</td>\n",
              "    </tr>\n",
              "    <tr>\n",
              "      <th>Canada</th>\n",
              "      <td>64</td>\n",
              "    </tr>\n",
              "    <tr>\n",
              "      <th>United Kingdom</th>\n",
              "      <td>56</td>\n",
              "    </tr>\n",
              "    <tr>\n",
              "      <th>Italy</th>\n",
              "      <td>51</td>\n",
              "    </tr>\n",
              "  </tbody>\n",
              "</table>\n",
              "</div>"
            ],
            "text/plain": [
              "                Name\n",
              "Country             \n",
              "United States    724\n",
              "China            626\n",
              "India            140\n",
              "Germany          136\n",
              "Russia           118\n",
              "Hong Kong         71\n",
              "Brazil            65\n",
              "Canada            64\n",
              "United Kingdom    56\n",
              "Italy             51"
            ]
          },
          "metadata": {},
          "execution_count": 32
        }
      ]
    },
    {
      "cell_type": "markdown",
      "metadata": {
        "id": "F592JH2PYh2t"
      },
      "source": [
        "You can group on multiple columns too"
      ]
    },
    {
      "cell_type": "code",
      "metadata": {
        "colab": {
          "base_uri": "https://localhost:8080/",
          "height": 454
        },
        "id": "CdxobnX3X_kG",
        "outputId": "4a479f72-a02a-4662-b4b2-0f9a69c9e8c9"
      },
      "source": [
        "df.groupby([\"Country\", \"Status\"])[[\"NetWorth\"]].mean()"
      ],
      "execution_count": 33,
      "outputs": [
        {
          "output_type": "execute_result",
          "data": {
            "text/html": [
              "<div>\n",
              "<style scoped>\n",
              "    .dataframe tbody tr th:only-of-type {\n",
              "        vertical-align: middle;\n",
              "    }\n",
              "\n",
              "    .dataframe tbody tr th {\n",
              "        vertical-align: top;\n",
              "    }\n",
              "\n",
              "    .dataframe thead th {\n",
              "        text-align: right;\n",
              "    }\n",
              "</style>\n",
              "<table border=\"1\" class=\"dataframe\">\n",
              "  <thead>\n",
              "    <tr style=\"text-align: right;\">\n",
              "      <th></th>\n",
              "      <th></th>\n",
              "      <th>NetWorth</th>\n",
              "    </tr>\n",
              "    <tr>\n",
              "      <th>Country</th>\n",
              "      <th>Status</th>\n",
              "      <th></th>\n",
              "    </tr>\n",
              "  </thead>\n",
              "  <tbody>\n",
              "    <tr>\n",
              "      <th>Algeria</th>\n",
              "      <th>Married</th>\n",
              "      <td>4.800000</td>\n",
              "    </tr>\n",
              "    <tr>\n",
              "      <th rowspan=\"2\" valign=\"top\">Argentina</th>\n",
              "      <th>Married</th>\n",
              "      <td>2.633333</td>\n",
              "    </tr>\n",
              "    <tr>\n",
              "      <th>Single</th>\n",
              "      <td>1.300000</td>\n",
              "    </tr>\n",
              "    <tr>\n",
              "      <th rowspan=\"2\" valign=\"top\">Australia</th>\n",
              "      <th>Divorced</th>\n",
              "      <td>2.000000</td>\n",
              "    </tr>\n",
              "    <tr>\n",
              "      <th>Married</th>\n",
              "      <td>3.906452</td>\n",
              "    </tr>\n",
              "    <tr>\n",
              "      <th>...</th>\n",
              "      <th>...</th>\n",
              "      <td>...</td>\n",
              "    </tr>\n",
              "    <tr>\n",
              "      <th rowspan=\"2\" valign=\"top\">United States</th>\n",
              "      <th>Widowed</th>\n",
              "      <td>6.568571</td>\n",
              "    </tr>\n",
              "    <tr>\n",
              "      <th>Widowed, Remarried</th>\n",
              "      <td>23.050000</td>\n",
              "    </tr>\n",
              "    <tr>\n",
              "      <th>Venezuela</th>\n",
              "      <th>Married</th>\n",
              "      <td>3.200000</td>\n",
              "    </tr>\n",
              "    <tr>\n",
              "      <th>Vietnam</th>\n",
              "      <th>Married</th>\n",
              "      <td>2.783333</td>\n",
              "    </tr>\n",
              "    <tr>\n",
              "      <th>Zimbabwe</th>\n",
              "      <th>Married</th>\n",
              "      <td>1.500000</td>\n",
              "    </tr>\n",
              "  </tbody>\n",
              "</table>\n",
              "<p>171 rows × 1 columns</p>\n",
              "</div>"
            ],
            "text/plain": [
              "                                   NetWorth\n",
              "Country       Status                       \n",
              "Algeria       Married              4.800000\n",
              "Argentina     Married              2.633333\n",
              "              Single               1.300000\n",
              "Australia     Divorced             2.000000\n",
              "              Married              3.906452\n",
              "...                                     ...\n",
              "United States Widowed              6.568571\n",
              "              Widowed, Remarried  23.050000\n",
              "Venezuela     Married              3.200000\n",
              "Vietnam       Married              2.783333\n",
              "Zimbabwe      Married              1.500000\n",
              "\n",
              "[171 rows x 1 columns]"
            ]
          },
          "metadata": {},
          "execution_count": 33
        }
      ]
    },
    {
      "cell_type": "markdown",
      "metadata": {
        "id": "BirYFRqAj_EN"
      },
      "source": [
        "Using `.agg()` gives you more flexibility on choice of aggregate function and lets you assign different aggregation functions to different columns at the same time. It also lets you rename the new aggregation column e.g. \"mean_net_worth\"\n",
        "\n",
        "Not required, but resetting the index lets you pop the group keys (Country, Status) back into the data frame as columns. This could make things more convenient in some cases."
      ]
    },
    {
      "cell_type": "code",
      "metadata": {
        "colab": {
          "base_uri": "https://localhost:8080/",
          "height": 422
        },
        "id": "CI5b8X5Wj-nu",
        "outputId": "09623e89-24a1-4888-d614-4bcb6e799eae"
      },
      "source": [
        "df.groupby([\"Country\", \"Status\"]).agg(\n",
        "                                      mean_net_worth=(\"NetWorth\", \"mean\"), \n",
        "                                      total_count=(\"Name\", \"count\")\n",
        "                                      ).reset_index()"
      ],
      "execution_count": 34,
      "outputs": [
        {
          "output_type": "execute_result",
          "data": {
            "text/html": [
              "<div>\n",
              "<style scoped>\n",
              "    .dataframe tbody tr th:only-of-type {\n",
              "        vertical-align: middle;\n",
              "    }\n",
              "\n",
              "    .dataframe tbody tr th {\n",
              "        vertical-align: top;\n",
              "    }\n",
              "\n",
              "    .dataframe thead th {\n",
              "        text-align: right;\n",
              "    }\n",
              "</style>\n",
              "<table border=\"1\" class=\"dataframe\">\n",
              "  <thead>\n",
              "    <tr style=\"text-align: right;\">\n",
              "      <th></th>\n",
              "      <th>Country</th>\n",
              "      <th>Status</th>\n",
              "      <th>mean_net_worth</th>\n",
              "      <th>total_count</th>\n",
              "    </tr>\n",
              "  </thead>\n",
              "  <tbody>\n",
              "    <tr>\n",
              "      <th>0</th>\n",
              "      <td>Algeria</td>\n",
              "      <td>Married</td>\n",
              "      <td>4.800000</td>\n",
              "      <td>1</td>\n",
              "    </tr>\n",
              "    <tr>\n",
              "      <th>1</th>\n",
              "      <td>Argentina</td>\n",
              "      <td>Married</td>\n",
              "      <td>2.633333</td>\n",
              "      <td>3</td>\n",
              "    </tr>\n",
              "    <tr>\n",
              "      <th>2</th>\n",
              "      <td>Argentina</td>\n",
              "      <td>Single</td>\n",
              "      <td>1.300000</td>\n",
              "      <td>1</td>\n",
              "    </tr>\n",
              "    <tr>\n",
              "      <th>3</th>\n",
              "      <td>Australia</td>\n",
              "      <td>Divorced</td>\n",
              "      <td>2.000000</td>\n",
              "      <td>5</td>\n",
              "    </tr>\n",
              "    <tr>\n",
              "      <th>4</th>\n",
              "      <td>Australia</td>\n",
              "      <td>Married</td>\n",
              "      <td>3.906452</td>\n",
              "      <td>31</td>\n",
              "    </tr>\n",
              "    <tr>\n",
              "      <th>...</th>\n",
              "      <td>...</td>\n",
              "      <td>...</td>\n",
              "      <td>...</td>\n",
              "      <td>...</td>\n",
              "    </tr>\n",
              "    <tr>\n",
              "      <th>166</th>\n",
              "      <td>United States</td>\n",
              "      <td>Widowed</td>\n",
              "      <td>6.568571</td>\n",
              "      <td>35</td>\n",
              "    </tr>\n",
              "    <tr>\n",
              "      <th>167</th>\n",
              "      <td>United States</td>\n",
              "      <td>Widowed, Remarried</td>\n",
              "      <td>23.050000</td>\n",
              "      <td>6</td>\n",
              "    </tr>\n",
              "    <tr>\n",
              "      <th>168</th>\n",
              "      <td>Venezuela</td>\n",
              "      <td>Married</td>\n",
              "      <td>3.200000</td>\n",
              "      <td>1</td>\n",
              "    </tr>\n",
              "    <tr>\n",
              "      <th>169</th>\n",
              "      <td>Vietnam</td>\n",
              "      <td>Married</td>\n",
              "      <td>2.783333</td>\n",
              "      <td>6</td>\n",
              "    </tr>\n",
              "    <tr>\n",
              "      <th>170</th>\n",
              "      <td>Zimbabwe</td>\n",
              "      <td>Married</td>\n",
              "      <td>1.500000</td>\n",
              "      <td>1</td>\n",
              "    </tr>\n",
              "  </tbody>\n",
              "</table>\n",
              "<p>171 rows × 4 columns</p>\n",
              "</div>"
            ],
            "text/plain": [
              "           Country              Status  mean_net_worth  total_count\n",
              "0          Algeria             Married        4.800000            1\n",
              "1        Argentina             Married        2.633333            3\n",
              "2        Argentina              Single        1.300000            1\n",
              "3        Australia            Divorced        2.000000            5\n",
              "4        Australia             Married        3.906452           31\n",
              "..             ...                 ...             ...          ...\n",
              "166  United States             Widowed        6.568571           35\n",
              "167  United States  Widowed, Remarried       23.050000            6\n",
              "168      Venezuela             Married        3.200000            1\n",
              "169        Vietnam             Married        2.783333            6\n",
              "170       Zimbabwe             Married        1.500000            1\n",
              "\n",
              "[171 rows x 4 columns]"
            ]
          },
          "metadata": {},
          "execution_count": 34
        }
      ]
    },
    {
      "cell_type": "markdown",
      "metadata": {
        "id": "RF4wHSkAcwyZ"
      },
      "source": [
        "#### Exercise\n",
        "\n",
        "What's the median age of billionaires per Country, sorted by decreasing median age?"
      ]
    },
    {
      "cell_type": "code",
      "metadata": {
        "id": "sgRllygqc5JE"
      },
      "source": [
        "# Your code here"
      ],
      "execution_count": 35,
      "outputs": []
    },
    {
      "cell_type": "markdown",
      "metadata": {
        "id": "GJ1-BfHWc3Ob"
      },
      "source": [
        "##### Solution"
      ]
    },
    {
      "cell_type": "code",
      "metadata": {
        "colab": {
          "base_uri": "https://localhost:8080/",
          "height": 0
        },
        "id": "ZyfQRGogc6yQ",
        "outputId": "048d9387-cfc6-4a55-d0f4-678589b079b2"
      },
      "source": [
        "# Alternate solution \n",
        "# df.groupby(\"Country\")[[\"Age\"]].median().sort_values(\"Age\", ascending=False).head(10)\n",
        "\n",
        "df.groupby([\"Country\"]).agg(mean_age=(\"Age\", \"median\")).reset_index().sort_values(\"mean_age\", ascending=False).head(10)"
      ],
      "execution_count": 36,
      "outputs": [
        {
          "output_type": "execute_result",
          "data": {
            "text/html": [
              "<div>\n",
              "<style scoped>\n",
              "    .dataframe tbody tr th:only-of-type {\n",
              "        vertical-align: middle;\n",
              "    }\n",
              "\n",
              "    .dataframe tbody tr th {\n",
              "        vertical-align: top;\n",
              "    }\n",
              "\n",
              "    .dataframe thead th {\n",
              "        text-align: right;\n",
              "    }\n",
              "</style>\n",
              "<table border=\"1\" class=\"dataframe\">\n",
              "  <thead>\n",
              "    <tr style=\"text-align: right;\">\n",
              "      <th></th>\n",
              "      <th>Country</th>\n",
              "      <th>mean_age</th>\n",
              "    </tr>\n",
              "  </thead>\n",
              "  <tbody>\n",
              "    <tr>\n",
              "      <th>14</th>\n",
              "      <td>Eswatini (Swaziland)</td>\n",
              "      <td>89.0</td>\n",
              "    </tr>\n",
              "    <tr>\n",
              "      <th>1</th>\n",
              "      <td>Argentina</td>\n",
              "      <td>86.5</td>\n",
              "    </tr>\n",
              "    <tr>\n",
              "      <th>43</th>\n",
              "      <td>Oman</td>\n",
              "      <td>82.0</td>\n",
              "    </tr>\n",
              "    <tr>\n",
              "      <th>9</th>\n",
              "      <td>Colombia</td>\n",
              "      <td>82.0</td>\n",
              "    </tr>\n",
              "    <tr>\n",
              "      <th>56</th>\n",
              "      <td>St. Kitts and Nevis</td>\n",
              "      <td>81.0</td>\n",
              "    </tr>\n",
              "    <tr>\n",
              "      <th>0</th>\n",
              "      <td>Algeria</td>\n",
              "      <td>77.0</td>\n",
              "    </tr>\n",
              "    <tr>\n",
              "      <th>44</th>\n",
              "      <td>Peru</td>\n",
              "      <td>75.0</td>\n",
              "    </tr>\n",
              "    <tr>\n",
              "      <th>36</th>\n",
              "      <td>Monaco</td>\n",
              "      <td>75.0</td>\n",
              "    </tr>\n",
              "    <tr>\n",
              "      <th>37</th>\n",
              "      <td>Morocco</td>\n",
              "      <td>74.0</td>\n",
              "    </tr>\n",
              "    <tr>\n",
              "      <th>3</th>\n",
              "      <td>Austria</td>\n",
              "      <td>73.5</td>\n",
              "    </tr>\n",
              "  </tbody>\n",
              "</table>\n",
              "</div>"
            ],
            "text/plain": [
              "                 Country  mean_age\n",
              "14  Eswatini (Swaziland)      89.0\n",
              "1              Argentina      86.5\n",
              "43                  Oman      82.0\n",
              "9               Colombia      82.0\n",
              "56   St. Kitts and Nevis      81.0\n",
              "0                Algeria      77.0\n",
              "44                  Peru      75.0\n",
              "36                Monaco      75.0\n",
              "37               Morocco      74.0\n",
              "3                Austria      73.5"
            ]
          },
          "metadata": {},
          "execution_count": 36
        }
      ]
    },
    {
      "cell_type": "markdown",
      "metadata": {
        "id": "wyv_zWPnabqz"
      },
      "source": [
        "### Combining Datasets"
      ]
    },
    {
      "cell_type": "markdown",
      "metadata": {
        "id": "oqu_uWdIese2"
      },
      "source": [
        "Let's join in other datasets to get more insights.\n",
        "\n",
        "This is a country population dataset."
      ]
    },
    {
      "cell_type": "code",
      "metadata": {
        "colab": {
          "base_uri": "https://localhost:8080/",
          "height": 223
        },
        "id": "dcR4LhERU0Dy",
        "outputId": "f5c62a72-b703-43de-b065-b611165a2770"
      },
      "source": [
        "pop_df = pd.read_csv(\"https://raw.githubusercontent.com/wangler/python_for_data_science_2021/main/population_by_country_2020.csv\", sep=\",\")\n",
        "pop_df.head()"
      ],
      "execution_count": 37,
      "outputs": [
        {
          "output_type": "execute_result",
          "data": {
            "text/html": [
              "<div>\n",
              "<style scoped>\n",
              "    .dataframe tbody tr th:only-of-type {\n",
              "        vertical-align: middle;\n",
              "    }\n",
              "\n",
              "    .dataframe tbody tr th {\n",
              "        vertical-align: top;\n",
              "    }\n",
              "\n",
              "    .dataframe thead th {\n",
              "        text-align: right;\n",
              "    }\n",
              "</style>\n",
              "<table border=\"1\" class=\"dataframe\">\n",
              "  <thead>\n",
              "    <tr style=\"text-align: right;\">\n",
              "      <th></th>\n",
              "      <th>Country (or dependency)</th>\n",
              "      <th>Population (2020)</th>\n",
              "      <th>Yearly Change</th>\n",
              "      <th>Net Change</th>\n",
              "      <th>Density (P/Km²)</th>\n",
              "      <th>Land Area (Km²)</th>\n",
              "      <th>Migrants (net)</th>\n",
              "      <th>Fert. Rate</th>\n",
              "      <th>Med. Age</th>\n",
              "      <th>Urban Pop %</th>\n",
              "      <th>World Share</th>\n",
              "    </tr>\n",
              "  </thead>\n",
              "  <tbody>\n",
              "    <tr>\n",
              "      <th>0</th>\n",
              "      <td>China</td>\n",
              "      <td>1440297825</td>\n",
              "      <td>0.39 %</td>\n",
              "      <td>5540090</td>\n",
              "      <td>153</td>\n",
              "      <td>9388211</td>\n",
              "      <td>-348399.0</td>\n",
              "      <td>1.7</td>\n",
              "      <td>38</td>\n",
              "      <td>61 %</td>\n",
              "      <td>18.47 %</td>\n",
              "    </tr>\n",
              "    <tr>\n",
              "      <th>1</th>\n",
              "      <td>India</td>\n",
              "      <td>1382345085</td>\n",
              "      <td>0.99 %</td>\n",
              "      <td>13586631</td>\n",
              "      <td>464</td>\n",
              "      <td>2973190</td>\n",
              "      <td>-532687.0</td>\n",
              "      <td>2.2</td>\n",
              "      <td>28</td>\n",
              "      <td>35 %</td>\n",
              "      <td>17.70 %</td>\n",
              "    </tr>\n",
              "    <tr>\n",
              "      <th>2</th>\n",
              "      <td>United States</td>\n",
              "      <td>331341050</td>\n",
              "      <td>0.59 %</td>\n",
              "      <td>1937734</td>\n",
              "      <td>36</td>\n",
              "      <td>9147420</td>\n",
              "      <td>954806.0</td>\n",
              "      <td>1.8</td>\n",
              "      <td>38</td>\n",
              "      <td>83 %</td>\n",
              "      <td>4.25 %</td>\n",
              "    </tr>\n",
              "    <tr>\n",
              "      <th>3</th>\n",
              "      <td>Indonesia</td>\n",
              "      <td>274021604</td>\n",
              "      <td>1.07 %</td>\n",
              "      <td>2898047</td>\n",
              "      <td>151</td>\n",
              "      <td>1811570</td>\n",
              "      <td>-98955.0</td>\n",
              "      <td>2.3</td>\n",
              "      <td>30</td>\n",
              "      <td>56 %</td>\n",
              "      <td>3.51 %</td>\n",
              "    </tr>\n",
              "    <tr>\n",
              "      <th>4</th>\n",
              "      <td>Pakistan</td>\n",
              "      <td>221612785</td>\n",
              "      <td>2.00 %</td>\n",
              "      <td>4327022</td>\n",
              "      <td>287</td>\n",
              "      <td>770880</td>\n",
              "      <td>-233379.0</td>\n",
              "      <td>3.6</td>\n",
              "      <td>23</td>\n",
              "      <td>35 %</td>\n",
              "      <td>2.83 %</td>\n",
              "    </tr>\n",
              "  </tbody>\n",
              "</table>\n",
              "</div>"
            ],
            "text/plain": [
              "  Country (or dependency)  Population (2020)  ... Urban Pop %  World Share\n",
              "0                   China         1440297825  ...        61 %      18.47 %\n",
              "1                   India         1382345085  ...        35 %      17.70 %\n",
              "2           United States          331341050  ...        83 %       4.25 %\n",
              "3               Indonesia          274021604  ...        56 %       3.51 %\n",
              "4                Pakistan          221612785  ...        35 %       2.83 %\n",
              "\n",
              "[5 rows x 11 columns]"
            ]
          },
          "metadata": {},
          "execution_count": 37
        }
      ]
    },
    {
      "cell_type": "markdown",
      "metadata": {
        "id": "Yg5vDcO5fJAx"
      },
      "source": [
        "Let's calculate number of billionaires per capita for each country"
      ]
    },
    {
      "cell_type": "code",
      "metadata": {
        "id": "K1_OKfYJiRFb"
      },
      "source": [
        "# Define a new df with billionaire counts per country\n",
        "# Resetting the index here so we can retain the \"Country\" column here\n",
        "billionaires_per_country = df.groupby(\"Country\").agg(num_billionaires=(\"Name\", \"count\")).reset_index()"
      ],
      "execution_count": 38,
      "outputs": []
    },
    {
      "cell_type": "code",
      "metadata": {
        "id": "-tr72zVpfiLL"
      },
      "source": [
        "# Define a new df with populations per country\n",
        "pop_per_country = pop_df[[\"Country (or dependency)\", \"Population (2020)\"]]"
      ],
      "execution_count": 39,
      "outputs": []
    },
    {
      "cell_type": "code",
      "metadata": {
        "id": "Wcibwv4khyKe"
      },
      "source": [
        "# Join the datasets on Country\n",
        "merged = pd.merge(billionaires_per_country, pop_per_country, left_on=\"Country\", right_on=\"Country (or dependency)\")"
      ],
      "execution_count": 40,
      "outputs": []
    },
    {
      "cell_type": "code",
      "metadata": {
        "id": "PNZ-QqGXs0hx"
      },
      "source": [
        "# Return only columns of interest, removing redundant columns\n",
        "merged = merged[[\"Country\", \"num_billionaires\", \"Population (2020)\"]]"
      ],
      "execution_count": 41,
      "outputs": []
    },
    {
      "cell_type": "code",
      "metadata": {
        "id": "IoZMgOpUnE-S"
      },
      "source": [
        "# Create a new column for billionaires_per_capita\n",
        "merged[\"billionaires_per_capita\"] = merged[\"num_billionaires\"] / merged[\"Population (2020)\"]"
      ],
      "execution_count": 42,
      "outputs": []
    },
    {
      "cell_type": "code",
      "metadata": {
        "colab": {
          "base_uri": "https://localhost:8080/",
          "height": 362
        },
        "id": "A4tR7tlZnSvK",
        "outputId": "575b9fba-4af3-4aae-cd30-21664a273cde"
      },
      "source": [
        "merged.sort_values(\"billionaires_per_capita\", ascending=False).head(10)"
      ],
      "execution_count": 43,
      "outputs": [
        {
          "output_type": "execute_result",
          "data": {
            "text/html": [
              "<div>\n",
              "<style scoped>\n",
              "    .dataframe tbody tr th:only-of-type {\n",
              "        vertical-align: middle;\n",
              "    }\n",
              "\n",
              "    .dataframe tbody tr th {\n",
              "        vertical-align: top;\n",
              "    }\n",
              "\n",
              "    .dataframe thead th {\n",
              "        text-align: right;\n",
              "    }\n",
              "</style>\n",
              "<table border=\"1\" class=\"dataframe\">\n",
              "  <thead>\n",
              "    <tr style=\"text-align: right;\">\n",
              "      <th></th>\n",
              "      <th>Country</th>\n",
              "      <th>num_billionaires</th>\n",
              "      <th>Population (2020)</th>\n",
              "      <th>billionaires_per_capita</th>\n",
              "    </tr>\n",
              "  </thead>\n",
              "  <tbody>\n",
              "    <tr>\n",
              "      <th>33</th>\n",
              "      <td>Monaco</td>\n",
              "      <td>3</td>\n",
              "      <td>39290</td>\n",
              "      <td>0.000076</td>\n",
              "    </tr>\n",
              "    <tr>\n",
              "      <th>29</th>\n",
              "      <td>Liechtenstein</td>\n",
              "      <td>1</td>\n",
              "      <td>38147</td>\n",
              "      <td>0.000026</td>\n",
              "    </tr>\n",
              "    <tr>\n",
              "      <th>18</th>\n",
              "      <td>Hong Kong</td>\n",
              "      <td>71</td>\n",
              "      <td>7507523</td>\n",
              "      <td>0.000009</td>\n",
              "    </tr>\n",
              "    <tr>\n",
              "      <th>20</th>\n",
              "      <td>Iceland</td>\n",
              "      <td>2</td>\n",
              "      <td>341628</td>\n",
              "      <td>0.000006</td>\n",
              "    </tr>\n",
              "    <tr>\n",
              "      <th>54</th>\n",
              "      <td>Switzerland</td>\n",
              "      <td>40</td>\n",
              "      <td>8665615</td>\n",
              "      <td>0.000005</td>\n",
              "    </tr>\n",
              "    <tr>\n",
              "      <th>48</th>\n",
              "      <td>Singapore</td>\n",
              "      <td>27</td>\n",
              "      <td>5858322</td>\n",
              "      <td>0.000005</td>\n",
              "    </tr>\n",
              "    <tr>\n",
              "      <th>10</th>\n",
              "      <td>Cyprus</td>\n",
              "      <td>5</td>\n",
              "      <td>1208886</td>\n",
              "      <td>0.000004</td>\n",
              "    </tr>\n",
              "    <tr>\n",
              "      <th>53</th>\n",
              "      <td>Sweden</td>\n",
              "      <td>41</td>\n",
              "      <td>10110233</td>\n",
              "      <td>0.000004</td>\n",
              "    </tr>\n",
              "    <tr>\n",
              "      <th>24</th>\n",
              "      <td>Israel</td>\n",
              "      <td>25</td>\n",
              "      <td>8678517</td>\n",
              "      <td>0.000003</td>\n",
              "    </tr>\n",
              "    <tr>\n",
              "      <th>39</th>\n",
              "      <td>Norway</td>\n",
              "      <td>12</td>\n",
              "      <td>5428594</td>\n",
              "      <td>0.000002</td>\n",
              "    </tr>\n",
              "  </tbody>\n",
              "</table>\n",
              "</div>"
            ],
            "text/plain": [
              "          Country  num_billionaires  Population (2020)  billionaires_per_capita\n",
              "33         Monaco                 3              39290                 0.000076\n",
              "29  Liechtenstein                 1              38147                 0.000026\n",
              "18      Hong Kong                71            7507523                 0.000009\n",
              "20        Iceland                 2             341628                 0.000006\n",
              "54    Switzerland                40            8665615                 0.000005\n",
              "48      Singapore                27            5858322                 0.000005\n",
              "10         Cyprus                 5            1208886                 0.000004\n",
              "53         Sweden                41           10110233                 0.000004\n",
              "24         Israel                25            8678517                 0.000003\n",
              "39         Norway                12            5428594                 0.000002"
            ]
          },
          "metadata": {},
          "execution_count": 43
        }
      ]
    },
    {
      "cell_type": "markdown",
      "metadata": {
        "id": "iVr0VsxkpM5P"
      },
      "source": [
        "## Plotting Charts"
      ]
    },
    {
      "cell_type": "markdown",
      "metadata": {
        "id": "UdokJITjpQih"
      },
      "source": [
        "You can plot directly from the pandas dataframe object using `.plot()`. The plotting capabilities in pandas make use of matplotlib. For most plots, it's easier to just use pandas' high-level plotting functions built into the dataframe. Use matplotlib if your plot needs to be highly specialized and customized. \n",
        "\n"
      ]
    },
    {
      "cell_type": "code",
      "metadata": {
        "colab": {
          "base_uri": "https://localhost:8080/",
          "height": 300
        },
        "id": "SD7CH5uqm_2m",
        "outputId": "818ae46d-5cc4-4227-8ed6-71aa09749ea4"
      },
      "source": [
        "merged.plot(x=\"Population (2020)\", \n",
        "            y=\"num_billionaires\", \n",
        "            kind=\"scatter\", logx=True)"
      ],
      "execution_count": 44,
      "outputs": [
        {
          "output_type": "execute_result",
          "data": {
            "text/plain": [
              "<matplotlib.axes._subplots.AxesSubplot at 0x7f6b0147fe90>"
            ]
          },
          "metadata": {},
          "execution_count": 44
        },
        {
          "output_type": "display_data",
          "data": {
            "image/png": "[encoded data removed]",
            "text/plain": [
              "<Figure size 432x288 with 1 Axes>"
            ]
          },
          "metadata": {
            "needs_background": "light"
          }
        }
      ]
    },
    {
      "cell_type": "markdown",
      "metadata": {
        "id": "DmR8Ribg_NyH"
      },
      "source": [
        "Other types of plots can be generated with the below values for the `kind` argument\n",
        "\n",
        "\n",
        "\n",
        "> ‘line’ : line plot (default)\n",
        "<br> ‘bar’ : vertical bar plot\n",
        "<br> ‘barh’ : horizontal bar plot\n",
        "<br>‘hist’ : histogram\n",
        "<br>‘box’ : boxplot\n",
        "<br>‘kde’ : Kernel Density Estimation plot\n",
        "<br>‘density’ : same as ‘kde’\n",
        "<br>‘area’ : area plot\n",
        "<br>‘pie’ : pie plot\n",
        "<br>‘scatter’ : scatter plot (DataFrame only)\n",
        "<br>‘hexbin’ : hexbin plot (DataFrame only)\n"
      ]
    },
    {
      "cell_type": "markdown",
      "metadata": {
        "id": "ssUGNneT-7Sw"
      },
      "source": [
        "Let's look at the original dataframe again"
      ]
    },
    {
      "cell_type": "code",
      "metadata": {
        "colab": {
          "base_uri": "https://localhost:8080/",
          "height": 467
        },
        "id": "pIy43PYN-9KV",
        "outputId": "33df75cb-761e-4d93-cbf2-9e7bb8c962d9"
      },
      "source": [
        "df.head(5)"
      ],
      "execution_count": 45,
      "outputs": [
        {
          "output_type": "execute_result",
          "data": {
            "text/html": [
              "<div>\n",
              "<style scoped>\n",
              "    .dataframe tbody tr th:only-of-type {\n",
              "        vertical-align: middle;\n",
              "    }\n",
              "\n",
              "    .dataframe tbody tr th {\n",
              "        vertical-align: top;\n",
              "    }\n",
              "\n",
              "    .dataframe thead th {\n",
              "        text-align: right;\n",
              "    }\n",
              "</style>\n",
              "<table border=\"1\" class=\"dataframe\">\n",
              "  <thead>\n",
              "    <tr style=\"text-align: right;\">\n",
              "      <th></th>\n",
              "      <th>Name</th>\n",
              "      <th>NetWorth</th>\n",
              "      <th>Country</th>\n",
              "      <th>Source</th>\n",
              "      <th>Rank</th>\n",
              "      <th>Age</th>\n",
              "      <th>Residence</th>\n",
              "      <th>Citizenship</th>\n",
              "      <th>Status</th>\n",
              "      <th>Children</th>\n",
              "      <th>Education</th>\n",
              "      <th>Self_made</th>\n",
              "      <th>geometry</th>\n",
              "      <th>on_the_market</th>\n",
              "      <th>is_drop_out</th>\n",
              "    </tr>\n",
              "  </thead>\n",
              "  <tbody>\n",
              "    <tr>\n",
              "      <th>0</th>\n",
              "      <td>Jeff Bezos</td>\n",
              "      <td>177.0</td>\n",
              "      <td>United States</td>\n",
              "      <td>Amazon</td>\n",
              "      <td>1</td>\n",
              "      <td>57.0</td>\n",
              "      <td>Seattle, Washington</td>\n",
              "      <td>United States</td>\n",
              "      <td>In Relationship</td>\n",
              "      <td>4.0</td>\n",
              "      <td>Bachelor of Arts/Science, Princeton University</td>\n",
              "      <td>True</td>\n",
              "      <td>POINT (-122.3300624 47.6038321)</td>\n",
              "      <td>False</td>\n",
              "      <td>False</td>\n",
              "    </tr>\n",
              "    <tr>\n",
              "      <th>1</th>\n",
              "      <td>Elon Musk</td>\n",
              "      <td>151.0</td>\n",
              "      <td>United States</td>\n",
              "      <td>Tesla, SpaceX</td>\n",
              "      <td>2</td>\n",
              "      <td>49.0</td>\n",
              "      <td>Austin, Texas</td>\n",
              "      <td>United States</td>\n",
              "      <td>In Relationship</td>\n",
              "      <td>7.0</td>\n",
              "      <td>Bachelor of Arts/Science, University of Pennsy...</td>\n",
              "      <td>True</td>\n",
              "      <td>POINT (-97.74369950000001 30.2711286)</td>\n",
              "      <td>False</td>\n",
              "      <td>False</td>\n",
              "    </tr>\n",
              "    <tr>\n",
              "      <th>2</th>\n",
              "      <td>Bernard Arnault &amp; family</td>\n",
              "      <td>150.0</td>\n",
              "      <td>France</td>\n",
              "      <td>LVMH</td>\n",
              "      <td>3</td>\n",
              "      <td>72.0</td>\n",
              "      <td>Paris, France</td>\n",
              "      <td>France</td>\n",
              "      <td>Married</td>\n",
              "      <td>5.0</td>\n",
              "      <td>Bachelor of Arts/Science, Ecole Polytechnique ...</td>\n",
              "      <td>False</td>\n",
              "      <td>POINT (2.3514616 48.8566969)</td>\n",
              "      <td>False</td>\n",
              "      <td>False</td>\n",
              "    </tr>\n",
              "    <tr>\n",
              "      <th>3</th>\n",
              "      <td>Bill Gates</td>\n",
              "      <td>124.0</td>\n",
              "      <td>United States</td>\n",
              "      <td>Microsoft</td>\n",
              "      <td>4</td>\n",
              "      <td>65.0</td>\n",
              "      <td>Medina, Washington</td>\n",
              "      <td>United States</td>\n",
              "      <td>Divorced</td>\n",
              "      <td>3.0</td>\n",
              "      <td>Drop Out, Harvard University</td>\n",
              "      <td>True</td>\n",
              "      <td>POINT (-122.2264453 47.620548)</td>\n",
              "      <td>True</td>\n",
              "      <td>True</td>\n",
              "    </tr>\n",
              "    <tr>\n",
              "      <th>4</th>\n",
              "      <td>Mark Zuckerberg</td>\n",
              "      <td>97.0</td>\n",
              "      <td>United States</td>\n",
              "      <td>Facebook</td>\n",
              "      <td>5</td>\n",
              "      <td>36.0</td>\n",
              "      <td>Palo Alto, California</td>\n",
              "      <td>United States</td>\n",
              "      <td>Married</td>\n",
              "      <td>2.0</td>\n",
              "      <td>Drop Out, Harvard University</td>\n",
              "      <td>True</td>\n",
              "      <td>POINT (-122.1598465 37.4443293)</td>\n",
              "      <td>False</td>\n",
              "      <td>True</td>\n",
              "    </tr>\n",
              "  </tbody>\n",
              "</table>\n",
              "</div>"
            ],
            "text/plain": [
              "                       Name  NetWorth  ... on_the_market is_drop_out\n",
              "0                Jeff Bezos     177.0  ...         False       False\n",
              "1                 Elon Musk     151.0  ...         False       False\n",
              "2  Bernard Arnault & family     150.0  ...         False       False\n",
              "3                Bill Gates     124.0  ...          True        True\n",
              "4           Mark Zuckerberg      97.0  ...         False        True\n",
              "\n",
              "[5 rows x 15 columns]"
            ]
          },
          "metadata": {},
          "execution_count": 45
        }
      ]
    },
    {
      "cell_type": "markdown",
      "metadata": {
        "id": "kkQwH2Mn_jt_"
      },
      "source": [
        "We can plot a histogram of net worth (there are multiple ways to do it through pandas)\n",
        "\n"
      ]
    },
    {
      "cell_type": "code",
      "metadata": {
        "colab": {
          "base_uri": "https://localhost:8080/",
          "height": 315
        },
        "id": "VfR-gnCw_qs0",
        "outputId": "a13b57c2-fe44-471e-ef8d-0fcfd448caf8"
      },
      "source": [
        "df.hist(\"NetWorth\", bins=100)\n",
        "\n",
        "# Option 2\n",
        "# df[\"NetWorth\"].hist(bins=100)\n",
        "\n",
        "# Option 3\n",
        "# df[\"NetWorth\"].plot(kind=\"hist\", bins=100)"
      ],
      "execution_count": 46,
      "outputs": [
        {
          "output_type": "execute_result",
          "data": {
            "text/plain": [
              "array([[<matplotlib.axes._subplots.AxesSubplot object at 0x7f6b00d0ba10>]],\n",
              "      dtype=object)"
            ]
          },
          "metadata": {},
          "execution_count": 46
        },
        {
          "output_type": "display_data",
          "data": {
            "image/png": "[encoded data removed]",
            "text/plain": [
              "<Figure size 432x288 with 1 Axes>"
            ]
          },
          "metadata": {
            "needs_background": "light"
          }
        }
      ]
    },
    {
      "cell_type": "markdown",
      "metadata": {
        "id": "M2GE4wT6HIY3"
      },
      "source": [
        "#### Making pretty plots with Seaborn\n",
        "Seaborn is another high-level interface for matplotlib. While you can customize your plots in matplotlib any way that you want, Seaborn's default settings are already very pretty."
      ]
    },
    {
      "cell_type": "code",
      "metadata": {
        "id": "iiijcPiioRx0"
      },
      "source": [
        "import matplotlib.pyplot as plt\n",
        "import seaborn as sns"
      ],
      "execution_count": 47,
      "outputs": []
    },
    {
      "cell_type": "markdown",
      "metadata": {
        "id": "bN4Wv-OHIRXv"
      },
      "source": [
        "The difference here is only subtle, but the dots have a bit more visual depth to them."
      ]
    },
    {
      "cell_type": "code",
      "metadata": {
        "colab": {
          "base_uri": "https://localhost:8080/",
          "height": 300
        },
        "id": "x--FI360pexK",
        "outputId": "0adf3e5c-d503-466b-f93f-71b958aaeee3"
      },
      "source": [
        "sns.scatterplot(\n",
        "    x=merged[\"Population (2020)\"], y=merged[\"num_billionaires\"]\n",
        "    ).set(xscale=\"log\")"
      ],
      "execution_count": 48,
      "outputs": [
        {
          "output_type": "execute_result",
          "data": {
            "text/plain": [
              "[None]"
            ]
          },
          "metadata": {},
          "execution_count": 48
        },
        {
          "output_type": "display_data",
          "data": {
            "image/png": "[encoded data removed]",
            "text/plain": [
              "<Figure size 432x288 with 1 Axes>"
            ]
          },
          "metadata": {
            "needs_background": "light"
          }
        }
      ]
    },
    {
      "cell_type": "markdown",
      "metadata": {
        "id": "qWFMFW5RIYVY"
      },
      "source": [
        "Let's plot the top countries with the most billionaires."
      ]
    },
    {
      "cell_type": "code",
      "metadata": {
        "id": "bosRIIZvIAUR"
      },
      "source": [
        "merged_top_20 = merged.sort_values(\"num_billionaires\", ascending=False).head(20)"
      ],
      "execution_count": 49,
      "outputs": []
    },
    {
      "cell_type": "markdown",
      "metadata": {
        "id": "HuSALtTMIcK9"
      },
      "source": [
        "This is one way to do it with pandas (using default parameters):"
      ]
    },
    {
      "cell_type": "code",
      "metadata": {
        "colab": {
          "base_uri": "https://localhost:8080/",
          "height": 367
        },
        "id": "KVqzZ8GVHoUs",
        "outputId": "c1ae917f-5d3f-45d0-be4f-cfed87555958"
      },
      "source": [
        "merged_top_20.plot.bar(x=\"Country\", y=\"num_billionaires\")"
      ],
      "execution_count": 50,
      "outputs": [
        {
          "output_type": "execute_result",
          "data": {
            "text/plain": [
              "<matplotlib.axes._subplots.AxesSubplot at 0x7f6af219f5d0>"
            ]
          },
          "metadata": {},
          "execution_count": 50
        },
        {
          "output_type": "display_data",
          "data": {
            "image/png": "[encoded data removed]",
            "text/plain": [
              "<Figure size 432x288 with 1 Axes>"
            ]
          },
          "metadata": {
            "needs_background": "light"
          }
        }
      ]
    },
    {
      "cell_type": "markdown",
      "metadata": {
        "id": "dnRBOFf5J3Nl"
      },
      "source": [
        "And this is the equivalent in Seaborn (using default parameters):"
      ]
    },
    {
      "cell_type": "code",
      "metadata": {
        "colab": {
          "base_uri": "https://localhost:8080/",
          "height": 350
        },
        "id": "-n2gUfz1pju_",
        "outputId": "3305ec82-0b8c-4f79-f89f-7b414982d453"
      },
      "source": [
        "sns.barplot(data=merged_top_20, x=\"Country\", y=\"num_billionaires\")\n",
        "plt.xticks(rotation=90)\n",
        "plt.show()"
      ],
      "execution_count": 51,
      "outputs": [
        {
          "output_type": "display_data",
          "data": {
            "image/png": "[encoded data removed]",
            "text/plain": [
              "<Figure size 432x288 with 1 Axes>"
            ]
          },
          "metadata": {
            "needs_background": "light"
          }
        }
      ]
    },
    {
      "cell_type": "markdown",
      "metadata": {
        "id": "4VGHHkpKoO6Q"
      },
      "source": [
        "Let's put together a simple boxplot. (Boxplots represent the quartiles of a distribution, along with outliers)."
      ]
    },
    {
      "cell_type": "code",
      "metadata": {
        "colab": {
          "base_uri": "https://localhost:8080/",
          "height": 295
        },
        "id": "yCRbNZMInrnE",
        "outputId": "ecf2161b-ea49-489e-c58f-624ea2d7cbe7"
      },
      "source": [
        "sns.boxplot(data=df, x=\"Self_made\", y=\"NetWorth\").set(yscale=\"log\")\n",
        "plt.xticks(rotation=90)\n",
        "plt.show()"
      ],
      "execution_count": 52,
      "outputs": [
        {
          "output_type": "display_data",
          "data": {
            "image/png": "[encoded data removed]",
            "text/plain": [
              "<Figure size 432x288 with 1 Axes>"
            ]
          },
          "metadata": {
            "needs_background": "light"
          }
        }
      ]
    },
    {
      "cell_type": "markdown",
      "metadata": {
        "id": "UMbehZ8R3Ev-"
      },
      "source": [
        "##### Exercise\n",
        "Plot the relationship between number of children and Net Worth\n"
      ]
    },
    {
      "cell_type": "code",
      "metadata": {
        "id": "LMfIIA_RGvd5"
      },
      "source": [
        "# Your code here"
      ],
      "execution_count": 53,
      "outputs": []
    },
    {
      "cell_type": "markdown",
      "metadata": {
        "id": "0hIMrBArFWuT"
      },
      "source": [
        "###### Solution"
      ]
    },
    {
      "cell_type": "code",
      "metadata": {
        "colab": {
          "base_uri": "https://localhost:8080/",
          "height": 296
        },
        "id": "ddTe2kG6-4gh",
        "outputId": "3ff4e72d-88b0-4037-d50c-50b8cf118eb1"
      },
      "source": [
        "df.plot(x=\"Children\", y=\"NetWorth\", kind=\"scatter\")\n",
        "\n",
        "# Alternate Solution\n",
        "# df.plot.scatter(x=\"Children\", y=\"NetWorth\")"
      ],
      "execution_count": 54,
      "outputs": [
        {
          "output_type": "execute_result",
          "data": {
            "text/plain": [
              "<matplotlib.axes._subplots.AxesSubplot at 0x7f6af1dd5d50>"
            ]
          },
          "metadata": {},
          "execution_count": 54
        },
        {
          "output_type": "display_data",
          "data": {
            "image/png": "[encoded data removed]",
            "text/plain": [
              "<Figure size 432x288 with 1 Axes>"
            ]
          },
          "metadata": {
            "needs_background": "light"
          }
        }
      ]
    },
    {
      "cell_type": "markdown",
      "metadata": {
        "id": "yqbrsEUYicR_"
      },
      "source": [
        "## Going Deeper with Modeling\n",
        "\n",
        "Let's train a linear regression model to predict Net Worth, to get a sense of how well any of these columns can predict it."
      ]
    },
    {
      "cell_type": "markdown",
      "metadata": {
        "id": "stLdjXVSwidV"
      },
      "source": [
        "Prep the training data. Only select numeric and boolean columns for today. (Categorical features take a bit more prep)."
      ]
    },
    {
      "cell_type": "code",
      "metadata": {
        "colab": {
          "base_uri": "https://localhost:8080/"
        },
        "id": "KWFfNDInq98-",
        "outputId": "992323f1-2307-430a-9ffb-64400cb52789"
      },
      "source": [
        "from sklearn.model_selection import train_test_split\n",
        "\n",
        "X_keys = [\"Age\", \"Children\", \"is_drop_out\", \"Self_made\"]\n",
        "y_key = \"NetWorth\"\n",
        "\n",
        "# Replace missing numeric values with 0. Otherwise, the model training fails.\n",
        "X = df[X_keys].fillna(0)\n",
        "y = df[y_key]\n",
        "\n",
        "X_train, X_test, y_train, y_test = train_test_split(X, y, test_size=0.4, random_state=101)\n",
        "\n",
        "print(X_train.shape)\n",
        "print(X_test.shape)\n",
        "print(y_train.shape)\n",
        "print(y_test.shape)"
      ],
      "execution_count": 56,
      "outputs": [
        {
          "output_type": "stream",
          "name": "stdout",
          "text": [
            "(1653, 4)\n",
            "(1102, 4)\n",
            "(1653,)\n",
            "(1102,)\n"
          ]
        }
      ]
    },
    {
      "cell_type": "markdown",
      "metadata": {
        "id": "pnNiGQrGwtLb"
      },
      "source": [
        "Fit a Linear Regression model from Scikit-learn. Scikit-learn (or sklearn) offers a wide variety of machine learning models and tools that you can use."
      ]
    },
    {
      "cell_type": "code",
      "metadata": {
        "colab": {
          "base_uri": "https://localhost:8080/"
        },
        "id": "H9QnX5n8rMyE",
        "outputId": "a920ae25-f651-41f7-e987-887cf353797a"
      },
      "source": [
        "from sklearn.linear_model import LinearRegression\n",
        "\n",
        "model = LinearRegression()\n",
        "model.fit(X_train,y_train)"
      ],
      "execution_count": 57,
      "outputs": [
        {
          "output_type": "execute_result",
          "data": {
            "text/plain": [
              "LinearRegression(copy_X=True, fit_intercept=True, n_jobs=None, normalize=False)"
            ]
          },
          "metadata": {},
          "execution_count": 57
        }
      ]
    },
    {
      "cell_type": "markdown",
      "metadata": {
        "id": "f1NXVACFwM3G"
      },
      "source": [
        "The fitted model intercept is the mean Net Worth"
      ]
    },
    {
      "cell_type": "code",
      "metadata": {
        "colab": {
          "base_uri": "https://localhost:8080/"
        },
        "id": "4_w_2FGWsKYm",
        "outputId": "75aaff4a-0d13-42ee-c28e-51ff535300c6"
      },
      "source": [
        "# print the intercept\n",
        "print(model.intercept_)"
      ],
      "execution_count": 58,
      "outputs": [
        {
          "output_type": "stream",
          "name": "stdout",
          "text": [
            "4.185671918729044\n"
          ]
        }
      ]
    },
    {
      "cell_type": "markdown",
      "metadata": {
        "id": "DUp4OkGyxQfi"
      },
      "source": [
        "The fitted coefficient represents the multiplier on the column value. When you sum the product of the coefficient * column value, across all columns, you get the final predicted value for NetWorth.\n",
        "\n",
        "e.g. So if the coefficient for Children is 5, then for each child a person has, you add 5 billion to their NetWorth."
      ]
    },
    {
      "cell_type": "code",
      "metadata": {
        "colab": {
          "base_uri": "https://localhost:8080/",
          "height": 175
        },
        "id": "vVfigiiksSYd",
        "outputId": "19f60c15-6b7d-4aa2-d800-e6d8ed4d390e"
      },
      "source": [
        "coeff_parameter = pd.DataFrame(model.coef_, X.columns, columns=['Coefficient'])\n",
        "coeff_parameter"
      ],
      "execution_count": 59,
      "outputs": [
        {
          "output_type": "execute_result",
          "data": {
            "text/html": [
              "<div>\n",
              "<style scoped>\n",
              "    .dataframe tbody tr th:only-of-type {\n",
              "        vertical-align: middle;\n",
              "    }\n",
              "\n",
              "    .dataframe tbody tr th {\n",
              "        vertical-align: top;\n",
              "    }\n",
              "\n",
              "    .dataframe thead th {\n",
              "        text-align: right;\n",
              "    }\n",
              "</style>\n",
              "<table border=\"1\" class=\"dataframe\">\n",
              "  <thead>\n",
              "    <tr style=\"text-align: right;\">\n",
              "      <th></th>\n",
              "      <th>Coefficient</th>\n",
              "    </tr>\n",
              "  </thead>\n",
              "  <tbody>\n",
              "    <tr>\n",
              "      <th>Age</th>\n",
              "      <td>0.000110</td>\n",
              "    </tr>\n",
              "    <tr>\n",
              "      <th>Children</th>\n",
              "      <td>0.535634</td>\n",
              "    </tr>\n",
              "    <tr>\n",
              "      <th>is_drop_out</th>\n",
              "      <td>5.178991</td>\n",
              "    </tr>\n",
              "    <tr>\n",
              "      <th>Self_made</th>\n",
              "      <td>-0.773451</td>\n",
              "    </tr>\n",
              "  </tbody>\n",
              "</table>\n",
              "</div>"
            ],
            "text/plain": [
              "             Coefficient\n",
              "Age             0.000110\n",
              "Children        0.535634\n",
              "is_drop_out     5.178991\n",
              "Self_made      -0.773451"
            ]
          },
          "metadata": {},
          "execution_count": 59
        }
      ]
    },
    {
      "cell_type": "markdown",
      "metadata": {
        "id": "wRyfuGZ7sis9"
      },
      "source": [
        "To get more rigorous statistics on your linear model, you can use the `statsmodels` library, which train the linear model and also print a comprehensive summary of your fitted coefficients."
      ]
    },
    {
      "cell_type": "code",
      "metadata": {
        "colab": {
          "base_uri": "https://localhost:8080/"
        },
        "id": "hjXNsPtlt95m",
        "outputId": "4088d14d-933b-4fe8-cfed-17f9fbc069c5"
      },
      "source": [
        "import statsmodels.api as sm\n",
        "\n",
        "# Statsmodels requires that the input variables are all numeric. (Sklearn is more flexible about that).\n",
        "# So we need to convert the boolean features to integers.\n",
        "X_train[\"is_drop_out\"] = X_train[\"is_drop_out\"].astype(int)\n",
        "X_train[\"Self_made\"] = X_train[\"Self_made\"].astype(int)\n",
        "\n",
        "# Set up the model\n",
        "X_train_sm = sm.add_constant(X_train)\n",
        "least_squares_model = sm.OLS(y_train ,X_train_sm).fit()\n",
        "\n",
        "print(least_squares_model.summary())"
      ],
      "execution_count": 60,
      "outputs": [
        {
          "output_type": "stream",
          "name": "stderr",
          "text": [
            "/usr/local/lib/python3.7/dist-packages/statsmodels/tools/_testing.py:19: FutureWarning: pandas.util.testing is deprecated. Use the functions in the public API at pandas.testing instead.\n",
            "  import pandas.util.testing as tm\n"
          ]
        },
        {
          "output_type": "stream",
          "name": "stdout",
          "text": [
            "                            OLS Regression Results                            \n",
            "==============================================================================\n",
            "Dep. Variable:               NetWorth   R-squared:                       0.023\n",
            "Model:                            OLS   Adj. R-squared:                  0.021\n",
            "Method:                 Least Squares   F-statistic:                     9.724\n",
            "Date:                Sat, 13 Nov 2021   Prob (F-statistic):           8.97e-08\n",
            "Time:                        19:31:33   Log-Likelihood:                -6090.2\n",
            "No. Observations:                1653   AIC:                         1.219e+04\n",
            "Df Residuals:                    1648   BIC:                         1.222e+04\n",
            "Df Model:                           4                                         \n",
            "Covariance Type:            nonrobust                                         \n",
            "===============================================================================\n",
            "                  coef    std err          t      P>|t|      [0.025      0.975]\n",
            "-------------------------------------------------------------------------------\n",
            "const           4.1857      0.897      4.668      0.000       2.427       5.944\n",
            "Age             0.0001      0.014      0.008      0.994      -0.027       0.028\n",
            "Children        0.5356      0.132      4.060      0.000       0.277       0.794\n",
            "is_drop_out     5.1790      1.365      3.793      0.000       2.501       7.857\n",
            "Self_made      -0.7735      0.528     -1.465      0.143      -1.809       0.262\n",
            "==============================================================================\n",
            "Omnibus:                     2320.450   Durbin-Watson:                   1.985\n",
            "Prob(Omnibus):                  0.000   Jarque-Bera (JB):           558746.124\n",
            "Skew:                           8.041   Prob(JB):                         0.00\n",
            "Kurtosis:                      91.622   Cond. No.                         365.\n",
            "==============================================================================\n",
            "\n",
            "Warnings:\n",
            "[1] Standard Errors assume that the covariance matrix of the errors is correctly specified.\n"
          ]
        },
        {
          "output_type": "stream",
          "name": "stderr",
          "text": [
            "/usr/local/lib/python3.7/dist-packages/ipykernel_launcher.py:5: SettingWithCopyWarning: \n",
            "A value is trying to be set on a copy of a slice from a DataFrame.\n",
            "Try using .loc[row_indexer,col_indexer] = value instead\n",
            "\n",
            "See the caveats in the documentation: https://pandas.pydata.org/pandas-docs/stable/user_guide/indexing.html#returning-a-view-versus-a-copy\n",
            "  \"\"\"\n",
            "/usr/local/lib/python3.7/dist-packages/ipykernel_launcher.py:6: SettingWithCopyWarning: \n",
            "A value is trying to be set on a copy of a slice from a DataFrame.\n",
            "Try using .loc[row_indexer,col_indexer] = value instead\n",
            "\n",
            "See the caveats in the documentation: https://pandas.pydata.org/pandas-docs/stable/user_guide/indexing.html#returning-a-view-versus-a-copy\n",
            "  \n"
          ]
        }
      ]
    },
    {
      "cell_type": "markdown",
      "metadata": {
        "id": "wUnmLXlxv8yX"
      },
      "source": [
        "Overall the R-squared is really bad, as it's only 0.023. So this model alone is not a great predictor of NetWorth. "
      ]
    },
    {
      "cell_type": "code",
      "metadata": {
        "id": "6BnN0Pevx5cT"
      },
      "source": [
        ""
      ],
      "execution_count": 60,
      "outputs": []
    }
  ]
}